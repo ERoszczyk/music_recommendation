{
 "cells": [
  {
   "cell_type": "markdown",
   "source": [
    "# Environment configuration"
   ],
   "metadata": {
    "collapsed": false
   }
  },
  {
   "cell_type": "code",
   "execution_count": 21,
   "metadata": {
    "collapsed": true
   },
   "outputs": [
    {
     "name": "stdout",
     "output_type": "stream",
     "text": [
      "Requirement already satisfied: DeepSaki==0.1.3 in d:\\dev\\anaconda3\\envs\\gpu2\\lib\\site-packages (from -r requirements.txt (line 1)) (0.1.3)\n",
      "Requirement already satisfied: keras==2.10.0 in d:\\dev\\anaconda3\\envs\\gpu2\\lib\\site-packages (from -r requirements.txt (line 2)) (2.10.0)\n",
      "Requirement already satisfied: tensorboard==2.10.0 in d:\\dev\\anaconda3\\envs\\gpu2\\lib\\site-packages (from -r requirements.txt (line 3)) (2.10.0)\n",
      "Requirement already satisfied: tensorboard-data-server==0.6.1 in d:\\dev\\anaconda3\\envs\\gpu2\\lib\\site-packages (from -r requirements.txt (line 4)) (0.6.1)\n",
      "Requirement already satisfied: tensorboard-plugin-wit==1.8.1 in d:\\dev\\anaconda3\\envs\\gpu2\\lib\\site-packages (from -r requirements.txt (line 5)) (1.8.1)\n",
      "Requirement already satisfied: tensorflow==2.10.0 in d:\\dev\\anaconda3\\envs\\gpu2\\lib\\site-packages (from -r requirements.txt (line 6)) (2.10.0)\n",
      "Requirement already satisfied: tensorflow-addons==0.19.0 in d:\\dev\\anaconda3\\envs\\gpu2\\lib\\site-packages (from -r requirements.txt (line 7)) (0.19.0)\n",
      "Requirement already satisfied: tensorflow-estimator==2.10.0 in d:\\dev\\anaconda3\\envs\\gpu2\\lib\\site-packages (from -r requirements.txt (line 8)) (2.10.0)\n",
      "Requirement already satisfied: tensorflow-intel==2.10.0 in d:\\dev\\anaconda3\\envs\\gpu2\\lib\\site-packages (from -r requirements.txt (line 9)) (2.10.0)\n",
      "Requirement already satisfied: tensorflow-io-gcs-filesystem==0.29.0 in d:\\dev\\anaconda3\\envs\\gpu2\\lib\\site-packages (from -r requirements.txt (line 10)) (0.29.0)\n",
      "Requirement already satisfied: pydantic==1.10.4 in d:\\dev\\anaconda3\\envs\\gpu2\\lib\\site-packages (from -r requirements.txt (line 11)) (1.10.4)\n",
      "Requirement already satisfied: pymongo==4.3.3 in d:\\dev\\anaconda3\\envs\\gpu2\\lib\\site-packages (from -r requirements.txt (line 12)) (4.3.3)\n",
      "Requirement already satisfied: pandas in d:\\dev\\anaconda3\\envs\\gpu2\\lib\\site-packages (from DeepSaki==0.1.3->-r requirements.txt (line 1)) (1.5.2)\n",
      "Requirement already satisfied: numpy in d:\\dev\\anaconda3\\envs\\gpu2\\lib\\site-packages (from DeepSaki==0.1.3->-r requirements.txt (line 1)) (1.24.1)\n",
      "Requirement already satisfied: wheel>=0.26 in d:\\dev\\anaconda3\\envs\\gpu2\\lib\\site-packages (from tensorboard==2.10.0->-r requirements.txt (line 3)) (0.37.1)\n",
      "Requirement already satisfied: google-auth-oauthlib<0.5,>=0.4.1 in d:\\dev\\anaconda3\\envs\\gpu2\\lib\\site-packages (from tensorboard==2.10.0->-r requirements.txt (line 3)) (0.4.6)\n",
      "Requirement already satisfied: markdown>=2.6.8 in d:\\dev\\anaconda3\\envs\\gpu2\\lib\\site-packages (from tensorboard==2.10.0->-r requirements.txt (line 3)) (3.4.1)\n",
      "Requirement already satisfied: requests<3,>=2.21.0 in d:\\dev\\anaconda3\\envs\\gpu2\\lib\\site-packages (from tensorboard==2.10.0->-r requirements.txt (line 3)) (2.28.2)\n",
      "Requirement already satisfied: grpcio>=1.24.3 in d:\\dev\\anaconda3\\envs\\gpu2\\lib\\site-packages (from tensorboard==2.10.0->-r requirements.txt (line 3)) (1.51.1)\n",
      "Requirement already satisfied: google-auth<3,>=1.6.3 in d:\\dev\\anaconda3\\envs\\gpu2\\lib\\site-packages (from tensorboard==2.10.0->-r requirements.txt (line 3)) (2.16.0)\n",
      "Requirement already satisfied: protobuf<3.20,>=3.9.2 in d:\\dev\\anaconda3\\envs\\gpu2\\lib\\site-packages (from tensorboard==2.10.0->-r requirements.txt (line 3)) (3.19.6)\n",
      "Requirement already satisfied: setuptools>=41.0.0 in d:\\dev\\anaconda3\\envs\\gpu2\\lib\\site-packages (from tensorboard==2.10.0->-r requirements.txt (line 3)) (65.6.3)\n",
      "Requirement already satisfied: absl-py>=0.4 in d:\\dev\\anaconda3\\envs\\gpu2\\lib\\site-packages (from tensorboard==2.10.0->-r requirements.txt (line 3)) (1.4.0)\n",
      "Requirement already satisfied: werkzeug>=1.0.1 in d:\\dev\\anaconda3\\envs\\gpu2\\lib\\site-packages (from tensorboard==2.10.0->-r requirements.txt (line 3)) (2.2.2)\n",
      "Requirement already satisfied: astunparse>=1.6.0 in d:\\dev\\anaconda3\\envs\\gpu2\\lib\\site-packages (from tensorflow==2.10.0->-r requirements.txt (line 6)) (1.6.3)\n",
      "Requirement already satisfied: keras-preprocessing>=1.1.1 in d:\\dev\\anaconda3\\envs\\gpu2\\lib\\site-packages (from tensorflow==2.10.0->-r requirements.txt (line 6)) (1.1.2)\n",
      "Requirement already satisfied: six>=1.12.0 in d:\\dev\\anaconda3\\envs\\gpu2\\lib\\site-packages (from tensorflow==2.10.0->-r requirements.txt (line 6)) (1.16.0)\n",
      "Requirement already satisfied: packaging in d:\\dev\\anaconda3\\envs\\gpu2\\lib\\site-packages (from tensorflow==2.10.0->-r requirements.txt (line 6)) (23.0)\n",
      "Requirement already satisfied: flatbuffers>=2.0 in d:\\dev\\anaconda3\\envs\\gpu2\\lib\\site-packages (from tensorflow==2.10.0->-r requirements.txt (line 6)) (23.1.4)\n",
      "Requirement already satisfied: termcolor>=1.1.0 in d:\\dev\\anaconda3\\envs\\gpu2\\lib\\site-packages (from tensorflow==2.10.0->-r requirements.txt (line 6)) (2.2.0)\n",
      "Requirement already satisfied: gast<=0.4.0,>=0.2.1 in d:\\dev\\anaconda3\\envs\\gpu2\\lib\\site-packages (from tensorflow==2.10.0->-r requirements.txt (line 6)) (0.4.0)\n",
      "Requirement already satisfied: google-pasta>=0.1.1 in d:\\dev\\anaconda3\\envs\\gpu2\\lib\\site-packages (from tensorflow==2.10.0->-r requirements.txt (line 6)) (0.2.0)\n",
      "Requirement already satisfied: typing-extensions>=3.6.6 in d:\\dev\\anaconda3\\envs\\gpu2\\lib\\site-packages (from tensorflow==2.10.0->-r requirements.txt (line 6)) (4.4.0)\n",
      "Requirement already satisfied: wrapt>=1.11.0 in d:\\dev\\anaconda3\\envs\\gpu2\\lib\\site-packages (from tensorflow==2.10.0->-r requirements.txt (line 6)) (1.14.1)\n",
      "Requirement already satisfied: libclang>=13.0.0 in d:\\dev\\anaconda3\\envs\\gpu2\\lib\\site-packages (from tensorflow==2.10.0->-r requirements.txt (line 6)) (15.0.6.1)\n",
      "Requirement already satisfied: opt-einsum>=2.3.2 in d:\\dev\\anaconda3\\envs\\gpu2\\lib\\site-packages (from tensorflow==2.10.0->-r requirements.txt (line 6)) (3.3.0)\n",
      "Requirement already satisfied: h5py>=2.9.0 in d:\\dev\\anaconda3\\envs\\gpu2\\lib\\site-packages (from tensorflow==2.10.0->-r requirements.txt (line 6)) (3.7.0)\n",
      "Requirement already satisfied: typeguard>=2.7 in d:\\dev\\anaconda3\\envs\\gpu2\\lib\\site-packages (from tensorflow-addons==0.19.0->-r requirements.txt (line 7)) (2.13.3)\n",
      "Requirement already satisfied: dnspython<3.0.0,>=1.16.0 in d:\\dev\\anaconda3\\envs\\gpu2\\lib\\site-packages (from pymongo==4.3.3->-r requirements.txt (line 12)) (2.3.0)\n",
      "Requirement already satisfied: pyasn1-modules>=0.2.1 in d:\\dev\\anaconda3\\envs\\gpu2\\lib\\site-packages (from google-auth<3,>=1.6.3->tensorboard==2.10.0->-r requirements.txt (line 3)) (0.2.8)\n",
      "Requirement already satisfied: cachetools<6.0,>=2.0.0 in d:\\dev\\anaconda3\\envs\\gpu2\\lib\\site-packages (from google-auth<3,>=1.6.3->tensorboard==2.10.0->-r requirements.txt (line 3)) (5.2.1)\n",
      "Requirement already satisfied: rsa<5,>=3.1.4 in d:\\dev\\anaconda3\\envs\\gpu2\\lib\\site-packages (from google-auth<3,>=1.6.3->tensorboard==2.10.0->-r requirements.txt (line 3)) (4.9)\n",
      "Requirement already satisfied: requests-oauthlib>=0.7.0 in d:\\dev\\anaconda3\\envs\\gpu2\\lib\\site-packages (from google-auth-oauthlib<0.5,>=0.4.1->tensorboard==2.10.0->-r requirements.txt (line 3)) (1.3.1)\n",
      "Requirement already satisfied: importlib-metadata>=4.4 in d:\\dev\\anaconda3\\envs\\gpu2\\lib\\site-packages (from markdown>=2.6.8->tensorboard==2.10.0->-r requirements.txt (line 3)) (6.0.0)\n",
      "Requirement already satisfied: charset-normalizer<4,>=2 in d:\\dev\\anaconda3\\envs\\gpu2\\lib\\site-packages (from requests<3,>=2.21.0->tensorboard==2.10.0->-r requirements.txt (line 3)) (3.0.1)\n",
      "Requirement already satisfied: certifi>=2017.4.17 in d:\\dev\\anaconda3\\envs\\gpu2\\lib\\site-packages (from requests<3,>=2.21.0->tensorboard==2.10.0->-r requirements.txt (line 3)) (2022.6.15)\n",
      "Requirement already satisfied: urllib3<1.27,>=1.21.1 in d:\\dev\\anaconda3\\envs\\gpu2\\lib\\site-packages (from requests<3,>=2.21.0->tensorboard==2.10.0->-r requirements.txt (line 3)) (1.26.14)\n",
      "Requirement already satisfied: idna<4,>=2.5 in d:\\dev\\anaconda3\\envs\\gpu2\\lib\\site-packages (from requests<3,>=2.21.0->tensorboard==2.10.0->-r requirements.txt (line 3)) (3.4)\n",
      "Requirement already satisfied: MarkupSafe>=2.1.1 in d:\\dev\\anaconda3\\envs\\gpu2\\lib\\site-packages (from werkzeug>=1.0.1->tensorboard==2.10.0->-r requirements.txt (line 3)) (2.1.1)\n",
      "Requirement already satisfied: python-dateutil>=2.8.1 in d:\\dev\\anaconda3\\envs\\gpu2\\lib\\site-packages (from pandas->DeepSaki==0.1.3->-r requirements.txt (line 1)) (2.8.2)\n",
      "Requirement already satisfied: pytz>=2020.1 in d:\\dev\\anaconda3\\envs\\gpu2\\lib\\site-packages (from pandas->DeepSaki==0.1.3->-r requirements.txt (line 1)) (2022.7.1)\n",
      "Requirement already satisfied: zipp>=0.5 in d:\\dev\\anaconda3\\envs\\gpu2\\lib\\site-packages (from importlib-metadata>=4.4->markdown>=2.6.8->tensorboard==2.10.0->-r requirements.txt (line 3)) (3.11.0)\n",
      "Requirement already satisfied: pyasn1<0.5.0,>=0.4.6 in d:\\dev\\anaconda3\\envs\\gpu2\\lib\\site-packages (from pyasn1-modules>=0.2.1->google-auth<3,>=1.6.3->tensorboard==2.10.0->-r requirements.txt (line 3)) (0.4.8)\n",
      "Requirement already satisfied: oauthlib>=3.0.0 in d:\\dev\\anaconda3\\envs\\gpu2\\lib\\site-packages (from requests-oauthlib>=0.7.0->google-auth-oauthlib<0.5,>=0.4.1->tensorboard==2.10.0->-r requirements.txt (line 3)) (3.2.2)\n"
     ]
    }
   ],
   "source": [
    "# Upgrading pip which will be used to install all libraries\n",
    "!pip install -r requirements.txt\n",
    "# !pip install pymongo"
   ]
  },
  {
   "cell_type": "code",
   "execution_count": 2,
   "outputs": [
    {
     "name": "stdout",
     "output_type": "stream",
     "text": [
      "Running on single GPU  /device:GPU:0\n",
      "Number of accelerators:  1\n",
      "____________________________________________________________________________________\n",
      "Device List: \n",
      "[name: \"/device:CPU:0\"\n",
      "device_type: \"CPU\"\n",
      "memory_limit: 268435456\n",
      "locality {\n",
      "}\n",
      "incarnation: 9027242169430391422\n",
      "xla_global_id: -1\n",
      ", name: \"/device:GPU:0\"\n",
      "device_type: \"GPU\"\n",
      "memory_limit: 1721342363\n",
      "locality {\n",
      "  bus_id: 1\n",
      "  links {\n",
      "  }\n",
      "}\n",
      "incarnation: 17701183863651686981\n",
      "physical_device_desc: \"device: 0, name: NVIDIA GeForce RTX 3050 Ti Laptop GPU, pci bus id: 0000:01:00.0, compute capability: 8.6\"\n",
      "xla_global_id: 416903419\n",
      "]\n"
     ]
    }
   ],
   "source": [
    "# to check if working on GPU\n",
    "# !pip install DeepSaki\n",
    "from tensorflow import keras\n",
    "import DeepSaki\n",
    "strategy, RUNTIME_ENVIRONMENT, hw_accelerator_handle = DeepSaki.utils.DetectHw()"
   ],
   "metadata": {
    "collapsed": false
   }
  },
  {
   "cell_type": "markdown",
   "source": [
    "# Content-based filtering using TF-IDF score"
   ],
   "metadata": {
    "collapsed": false
   }
  },
  {
   "cell_type": "code",
   "execution_count": 3,
   "outputs": [],
   "source": [
    "import pandas as pd\n",
    "import matplotlib.pyplot as plt"
   ],
   "metadata": {
    "collapsed": false
   }
  },
  {
   "cell_type": "code",
   "execution_count": 5,
   "outputs": [],
   "source": [
    "\n",
    "from typing import List\n",
    "# from ../models/msd_song import MsdSongWithLyrics\n",
    "from models.msd_song import MsdSongWithLyrics\n",
    "from dao.dao_msd_songs_with_lyrics import DAOMsdSongsWithLyrics\n",
    "\n",
    "dao_songs_with_lyrics: DAOMsdSongsWithLyrics = DAOMsdSongsWithLyrics()\n",
    "songs: List[MsdSongWithLyrics] = dao_songs_with_lyrics.find_many_by_query({'lyrics': {'$ne':None}})"
   ],
   "metadata": {
    "collapsed": false
   }
  },
  {
   "cell_type": "code",
   "execution_count": 6,
   "outputs": [
    {
     "data": {
      "text/plain": "              song_id               title  \\\n0  SOLJTLX12AB01890ED  El hijo del pueblo   \n1  SOMPVQB12A8C1379BB              Pilots   \n2  SOSDCFG12AB0184647                 006   \n3  SOKOVRQ12A8C142811   Ethos of Coercion   \n4  SOIMMJJ12AF72AD643         Rock-N-Rule   \n\n                                release      artist_name  year   tag features  \\\n0               32 Grandes Éxitos  CD 2    Jorge Negrete  1997   pop       []   \n1                             The Loyal        Tiger Lou  2005   pop       []   \n2                            Lena 20 År  Lena Philipsson  1998   pop       []   \n3                Descend Into Depravity      Dying Fetus  2009  rock       []   \n4  I'm Only A Man (Bonus Track Version)            Emery  2007  rock       []   \n\n                                              lyrics  \n0  Es mi orgullo haber nacido en el barrio más hu...  \n1  Raise the chandelier light the candels dear i ...  \n2  I had come in the name of love\\nWith a mission...  \n3  Castigation of the offenders, no punishment ou...  \n4  [Intro]\\nThis is a waking up\\nThis is your fin...  ",
      "text/html": "<div>\n<style scoped>\n    .dataframe tbody tr th:only-of-type {\n        vertical-align: middle;\n    }\n\n    .dataframe tbody tr th {\n        vertical-align: top;\n    }\n\n    .dataframe thead th {\n        text-align: right;\n    }\n</style>\n<table border=\"1\" class=\"dataframe\">\n  <thead>\n    <tr style=\"text-align: right;\">\n      <th></th>\n      <th>song_id</th>\n      <th>title</th>\n      <th>release</th>\n      <th>artist_name</th>\n      <th>year</th>\n      <th>tag</th>\n      <th>features</th>\n      <th>lyrics</th>\n    </tr>\n  </thead>\n  <tbody>\n    <tr>\n      <th>0</th>\n      <td>SOLJTLX12AB01890ED</td>\n      <td>El hijo del pueblo</td>\n      <td>32 Grandes Éxitos  CD 2</td>\n      <td>Jorge Negrete</td>\n      <td>1997</td>\n      <td>pop</td>\n      <td>[]</td>\n      <td>Es mi orgullo haber nacido en el barrio más hu...</td>\n    </tr>\n    <tr>\n      <th>1</th>\n      <td>SOMPVQB12A8C1379BB</td>\n      <td>Pilots</td>\n      <td>The Loyal</td>\n      <td>Tiger Lou</td>\n      <td>2005</td>\n      <td>pop</td>\n      <td>[]</td>\n      <td>Raise the chandelier light the candels dear i ...</td>\n    </tr>\n    <tr>\n      <th>2</th>\n      <td>SOSDCFG12AB0184647</td>\n      <td>006</td>\n      <td>Lena 20 År</td>\n      <td>Lena Philipsson</td>\n      <td>1998</td>\n      <td>pop</td>\n      <td>[]</td>\n      <td>I had come in the name of love\\nWith a mission...</td>\n    </tr>\n    <tr>\n      <th>3</th>\n      <td>SOKOVRQ12A8C142811</td>\n      <td>Ethos of Coercion</td>\n      <td>Descend Into Depravity</td>\n      <td>Dying Fetus</td>\n      <td>2009</td>\n      <td>rock</td>\n      <td>[]</td>\n      <td>Castigation of the offenders, no punishment ou...</td>\n    </tr>\n    <tr>\n      <th>4</th>\n      <td>SOIMMJJ12AF72AD643</td>\n      <td>Rock-N-Rule</td>\n      <td>I'm Only A Man (Bonus Track Version)</td>\n      <td>Emery</td>\n      <td>2007</td>\n      <td>rock</td>\n      <td>[]</td>\n      <td>[Intro]\\nThis is a waking up\\nThis is your fin...</td>\n    </tr>\n  </tbody>\n</table>\n</div>"
     },
     "execution_count": 6,
     "metadata": {},
     "output_type": "execute_result"
    }
   ],
   "source": [
    "headers = songs[0].dict().keys()\n",
    "songs_values = [song.dict().values() for song in songs]\n",
    "songs_df = pd.DataFrame(songs_values, columns=headers)\n",
    "songs_df.head()"
   ],
   "metadata": {
    "collapsed": false
   }
  },
  {
   "cell_type": "code",
   "execution_count": 7,
   "outputs": [
    {
     "name": "stdout",
     "output_type": "stream",
     "text": [
      "Requirement already satisfied: scikit-learn in d:\\dev\\anaconda3\\envs\\gpu2\\lib\\site-packages (1.2.0)\n",
      "Requirement already satisfied: joblib>=1.1.1 in d:\\dev\\anaconda3\\envs\\gpu2\\lib\\site-packages (from scikit-learn) (1.2.0)\n",
      "Requirement already satisfied: numpy>=1.17.3 in d:\\dev\\anaconda3\\envs\\gpu2\\lib\\site-packages (from scikit-learn) (1.24.1)\n",
      "Requirement already satisfied: threadpoolctl>=2.0.0 in d:\\dev\\anaconda3\\envs\\gpu2\\lib\\site-packages (from scikit-learn) (3.1.0)\n",
      "Requirement already satisfied: scipy>=1.3.2 in d:\\dev\\anaconda3\\envs\\gpu2\\lib\\site-packages (from scikit-learn) (1.10.0)\n"
     ]
    }
   ],
   "source": [
    "!pip install scikit-learn\n",
    "from sklearn.feature_extraction.text import TfidfVectorizer"
   ],
   "metadata": {
    "collapsed": false
   }
  },
  {
   "cell_type": "code",
   "execution_count": 8,
   "outputs": [
    {
     "name": "stderr",
     "output_type": "stream",
     "text": [
      "C:\\Users\\Ewakae\\AppData\\Local\\Temp\\ipykernel_6684\\2959928106.py:1: FutureWarning: The default value of regex will change from True to False in a future version.\n",
      "  songs_df['lyrics'] = songs_df['lyrics'].str.replace(r'\\n', ' ')\n"
     ]
    }
   ],
   "source": [
    "songs_df['lyrics'] = songs_df['lyrics'].str.replace(r'\\n', ' ')"
   ],
   "metadata": {
    "collapsed": false
   }
  },
  {
   "cell_type": "code",
   "execution_count": 9,
   "outputs": [
    {
     "data": {
      "text/plain": "0         Es mi orgullo haber nacido en el barrio más hu...\n1         Raise the chandelier light the candels dear i ...\n2         I had come in the name of love With a mission ...\n3         Castigation of the offenders, no punishment ou...\n4         [Intro] This is a waking up This is your final...\n                                ...                        \n181329    Yesterday I went outside And all my grass had ...\n181330    Big girls like telling boys that shove \"fact i...\n181331    [Verse 1] Think of me as your soldier The man ...\n181332    Interrotte speranze, eterna fede Fiamme e stra...\n181333    Where do you go with all of those scars They r...\nName: lyrics, Length: 181334, dtype: object"
     },
     "execution_count": 9,
     "metadata": {},
     "output_type": "execute_result"
    }
   ],
   "source": [
    "songs_df['lyrics']"
   ],
   "metadata": {
    "collapsed": false
   }
  },
  {
   "cell_type": "code",
   "execution_count": 11,
   "outputs": [
    {
     "name": "stdout",
     "output_type": "stream",
     "text": [
      "Requirement already satisfied: nltk in d:\\dev\\anaconda3\\envs\\gpu2\\lib\\site-packages (3.8.1)\n",
      "Requirement already satisfied: click in d:\\dev\\anaconda3\\envs\\gpu2\\lib\\site-packages (from nltk) (8.1.3)\n",
      "Requirement already satisfied: regex>=2021.8.3 in d:\\dev\\anaconda3\\envs\\gpu2\\lib\\site-packages (from nltk) (2022.10.31)\n",
      "Requirement already satisfied: joblib in d:\\dev\\anaconda3\\envs\\gpu2\\lib\\site-packages (from nltk) (1.2.0)\n",
      "Requirement already satisfied: tqdm in d:\\dev\\anaconda3\\envs\\gpu2\\lib\\site-packages (from nltk) (4.64.1)\n",
      "Requirement already satisfied: colorama in d:\\dev\\anaconda3\\envs\\gpu2\\lib\\site-packages (from click->nltk) (0.4.4)\n"
     ]
    },
    {
     "name": "stderr",
     "output_type": "stream",
     "text": [
      "[nltk_data] Downloading package stopwords to\n",
      "[nltk_data]     C:\\Users\\Ewakae\\AppData\\Roaming\\nltk_data...\n",
      "[nltk_data]   Package stopwords is already up-to-date!\n"
     ]
    }
   ],
   "source": [
    "!pip install --user -U nltk\n",
    "import nltk\n",
    "from nltk.corpus import stopwords\n",
    "nltk.download('stopwords')\n",
    "final_stopwords_list = stopwords.words('english') + stopwords.words('french') + stopwords.words('spanish') + stopwords.words('swedish')\n",
    "tfidf = TfidfVectorizer(analyzer='word', stop_words=final_stopwords_list)"
   ],
   "metadata": {
    "collapsed": false
   }
  },
  {
   "cell_type": "code",
   "execution_count": 12,
   "outputs": [],
   "source": [
    "songs_df = songs_df[:20000]\n",
    "tfidf_matrix = tfidf.fit_transform(songs_df['lyrics'])\n"
   ],
   "metadata": {
    "collapsed": false
   }
  },
  {
   "cell_type": "code",
   "execution_count": 13,
   "outputs": [
    {
     "data": {
      "text/plain": "<20000x106683 sparse matrix of type '<class 'numpy.float64'>'\n\twith 1170789 stored elements in Compressed Sparse Row format>"
     },
     "execution_count": 13,
     "metadata": {},
     "output_type": "execute_result"
    }
   ],
   "source": [
    "tfidf_matrix"
   ],
   "metadata": {
    "collapsed": false
   }
  },
  {
   "cell_type": "code",
   "execution_count": 14,
   "outputs": [
    {
     "data": {
      "text/plain": "(20000, 106683)"
     },
     "execution_count": 14,
     "metadata": {},
     "output_type": "execute_result"
    }
   ],
   "source": [
    "tfidf_matrix.shape"
   ],
   "metadata": {
    "collapsed": false
   }
  },
  {
   "cell_type": "markdown",
   "source": [
    "## Content-based recommendation based on sigmoid kernel"
   ],
   "metadata": {
    "collapsed": false
   }
  },
  {
   "cell_type": "code",
   "execution_count": 15,
   "outputs": [],
   "source": [
    "from sklearn.metrics.pairwise import sigmoid_kernel\n",
    "\n",
    "songs_sig = sigmoid_kernel(tfidf_matrix, tfidf_matrix)"
   ],
   "metadata": {
    "collapsed": false
   }
  },
  {
   "cell_type": "code",
   "execution_count": 16,
   "outputs": [
    {
     "data": {
      "text/plain": "array([[0.76159809, 0.76159416, 0.76159416, ..., 0.76159416, 0.76159416,\n        0.76159432],\n       [0.76159416, 0.76159809, 0.76159416, ..., 0.76159416, 0.76159416,\n        0.76159416],\n       [0.76159416, 0.76159416, 0.76159809, ..., 0.7615942 , 0.76159416,\n        0.76159416],\n       ...,\n       [0.76159416, 0.76159416, 0.7615942 , ..., 0.76159809, 0.76159416,\n        0.76159416],\n       [0.76159416, 0.76159416, 0.76159416, ..., 0.76159416, 0.76159809,\n        0.76159416],\n       [0.76159432, 0.76159416, 0.76159416, ..., 0.76159416, 0.76159416,\n        0.76159809]])"
     },
     "execution_count": 16,
     "metadata": {},
     "output_type": "execute_result"
    }
   ],
   "source": [
    "songs_sig"
   ],
   "metadata": {
    "collapsed": false
   }
  },
  {
   "cell_type": "code",
   "execution_count": 17,
   "outputs": [
    {
     "data": {
      "text/plain": "array([0.76159809, 0.76159416, 0.76159416, ..., 0.76159416, 0.76159416,\n       0.76159432])"
     },
     "execution_count": 17,
     "metadata": {},
     "output_type": "execute_result"
    }
   ],
   "source": [
    "songs_sig[0]"
   ],
   "metadata": {
    "collapsed": false
   }
  },
  {
   "cell_type": "code",
   "execution_count": 18,
   "outputs": [],
   "source": [
    "indices = pd.Series(songs_df.index, index=songs_df['title'])"
   ],
   "metadata": {
    "collapsed": false
   }
  },
  {
   "cell_type": "code",
   "execution_count": 82,
   "outputs": [
    {
     "data": {
      "text/plain": "title\nEl hijo del pueblo        0\nPilots                    1\n006                       2\nEthos of Coercion         3\nRock-N-Rule               4\n                      ...  \nTyttö metsässä        19995\nInis Mona             19996\nI Can Tell            19997\nThe April Fools       19998\nDaría                 19999\nLength: 20000, dtype: int64"
     },
     "execution_count": 82,
     "metadata": {},
     "output_type": "execute_result"
    }
   ],
   "source": [
    "indices"
   ],
   "metadata": {
    "collapsed": false
   }
  },
  {
   "cell_type": "code",
   "execution_count": 84,
   "outputs": [],
   "source": [
    "idx = indices['Before He Kissed Me']"
   ],
   "metadata": {
    "collapsed": false
   }
  },
  {
   "cell_type": "code",
   "execution_count": 85,
   "outputs": [
    {
     "data": {
      "text/plain": "7"
     },
     "execution_count": 85,
     "metadata": {},
     "output_type": "execute_result"
    }
   ],
   "source": [
    "idx"
   ],
   "metadata": {
    "collapsed": false
   }
  },
  {
   "cell_type": "code",
   "execution_count": 88,
   "outputs": [
    {
     "data": {
      "text/plain": "[(17140, 0.7615980925843139),\n (6679, 0.7615946934019091),\n (16945, 0.7615946934019091),\n (18372, 0.7615946753420102),\n (5809, 0.7615946434644573),\n (12405, 0.761594615341704),\n (12947, 0.7615945966095496),\n (19732, 0.7615945928406871),\n (12072, 0.7615945801236044),\n (4867, 0.7615945403184269)]"
     },
     "execution_count": 88,
     "metadata": {},
     "output_type": "execute_result"
    }
   ],
   "source": [
    "sig_scores = list(enumerate(songs_sig[idx]))\n",
    "sig_scores = sorted(sig_scores, key=lambda x: x[1], reverse=True)\n",
    "sig_scores = sig_scores[1:11]\n",
    "sig_scores"
   ],
   "metadata": {
    "collapsed": false
   }
  },
  {
   "cell_type": "code",
   "execution_count": 91,
   "outputs": [
    {
     "name": "stdout",
     "output_type": "stream",
     "text": [
      "Waterlogged Broken Hope\n",
      "Gone Kissin Lunachicks\n",
      "Gone Kissin Lunachicks\n",
      "Flowers Grow Out of My Grave Dead Man's Bones\n",
      "When Pain Comes To Surface Skinlab\n",
      "Present Arrived Tom Verlaine\n",
      "Peace Senser\n",
      "Beautiful Mind The Verve\n",
      "Envelopes Another Day Ariel Pink's Haunted Graffiti\n",
      "Drifting Texas Sand Webb Pierce\n"
     ]
    }
   ],
   "source": [
    "for song_score in sig_scores:\n",
    "    print(songs_df['title'].iloc[song_score[0]], songs_df['artist_name'].iloc[song_score[0]])"
   ],
   "metadata": {
    "collapsed": false
   }
  },
  {
   "cell_type": "markdown",
   "source": [
    "## Content-based recommendation based on cosine similarity"
   ],
   "metadata": {
    "collapsed": false
   }
  },
  {
   "cell_type": "code",
   "execution_count": 117,
   "outputs": [],
   "source": [
    "from sklearn.metrics.pairwise import cosine_similarity"
   ],
   "metadata": {
    "collapsed": false
   }
  },
  {
   "cell_type": "code",
   "execution_count": 118,
   "outputs": [],
   "source": [
    "cosine_song_similarity = cosine_similarity( ';')"
   ],
   "metadata": {
    "collapsed": false
   }
  },
  {
   "cell_type": "code",
   "execution_count": 119,
   "outputs": [
    {
     "data": {
      "text/plain": "array([[1.        , 0.        , 0.        , ..., 0.        , 0.        ,\n        0.04216187],\n       [0.        , 1.        , 0.        , ..., 0.        , 0.        ,\n        0.        ],\n       [0.        , 0.        , 1.        , ..., 0.01048144, 0.        ,\n        0.        ],\n       ...,\n       [0.        , 0.        , 0.01048144, ..., 1.        , 0.        ,\n        0.        ],\n       [0.        , 0.        , 0.        , ..., 0.        , 1.        ,\n        0.        ],\n       [0.04216187, 0.        , 0.        , ..., 0.        , 0.        ,\n        1.        ]])"
     },
     "execution_count": 119,
     "metadata": {},
     "output_type": "execute_result"
    }
   ],
   "source": [
    "cosine_song_similarity"
   ],
   "metadata": {
    "collapsed": false
   }
  },
  {
   "cell_type": "code",
   "execution_count": 120,
   "outputs": [
    {
     "data": {
      "text/plain": "20000"
     },
     "execution_count": 120,
     "metadata": {},
     "output_type": "execute_result"
    }
   ],
   "source": [
    "len(cosine_song_similarity)"
   ],
   "metadata": {
    "collapsed": false
   }
  },
  {
   "cell_type": "code",
   "execution_count": 121,
   "outputs": [],
   "source": [
    "indices = pd.Series(songs_df.index, index=songs_df['title'])"
   ],
   "metadata": {
    "collapsed": false
   }
  },
  {
   "cell_type": "code",
   "execution_count": 122,
   "outputs": [
    {
     "data": {
      "text/plain": "7"
     },
     "execution_count": 122,
     "metadata": {},
     "output_type": "execute_result"
    }
   ],
   "source": [
    "idx = indices['Before He Kissed Me']\n",
    "idx"
   ],
   "metadata": {
    "collapsed": false
   }
  },
  {
   "cell_type": "code",
   "execution_count": 123,
   "outputs": [
    {
     "data": {
      "text/plain": "numpy.ndarray"
     },
     "execution_count": 123,
     "metadata": {},
     "output_type": "execute_result"
    }
   ],
   "source": [
    "type(cosine_song_similarity[idx])"
   ],
   "metadata": {
    "collapsed": false
   }
  },
  {
   "cell_type": "code",
   "execution_count": 124,
   "outputs": [
    {
     "data": {
      "text/plain": "array([0.        , 0.00606898, 0.00161058, ..., 0.        , 0.        ,\n       0.        ])"
     },
     "execution_count": 124,
     "metadata": {},
     "output_type": "execute_result"
    }
   ],
   "source": [
    "cosine_song_similarity[idx]"
   ],
   "metadata": {
    "collapsed": false
   }
  },
  {
   "cell_type": "code",
   "execution_count": 126,
   "outputs": [],
   "source": [
    "import numpy as np"
   ],
   "metadata": {
    "collapsed": false
   }
  },
  {
   "cell_type": "code",
   "execution_count": 131,
   "outputs": [],
   "source": [
    "results = cosine_song_similarity[idx].argsort()[:-50:-1]"
   ],
   "metadata": {
    "collapsed": false
   }
  },
  {
   "cell_type": "code",
   "execution_count": 140,
   "outputs": [
    {
     "data": {
      "text/plain": "array([1.        , 1.        , 0.13652363, ..., 0.        , 0.        ,\n       0.        ])"
     },
     "execution_count": 140,
     "metadata": {},
     "output_type": "execute_result"
    }
   ],
   "source": [
    "np.sort(cosine_song_similarity[idx])[::-1]"
   ],
   "metadata": {
    "collapsed": false
   }
  },
  {
   "cell_type": "code",
   "execution_count": 133,
   "outputs": [
    {
     "data": {
      "text/plain": "numpy.ndarray"
     },
     "execution_count": 133,
     "metadata": {},
     "output_type": "execute_result"
    }
   ],
   "source": [
    "type(results)"
   ],
   "metadata": {
    "collapsed": false
   }
  },
  {
   "cell_type": "code",
   "execution_count": 135,
   "outputs": [
    {
     "name": "stdout",
     "output_type": "stream",
     "text": [
      "Before He Kissed Me Lisa Brokop\n",
      "Waterlogged Broken Hope\n",
      "Gone Kissin Lunachicks\n",
      "Gone Kissin Lunachicks\n",
      "Flowers Grow Out of My Grave Dead Man's Bones\n",
      "When Pain Comes To Surface Skinlab\n",
      "Present Arrived Tom Verlaine\n",
      "Peace Senser\n",
      "Beautiful Mind The Verve\n",
      "Envelopes Another Day Ariel Pink's Haunted Graffiti\n",
      "Drifting Texas Sand Webb Pierce\n",
      "The Abandoned Ava Inferi\n",
      "Lay Some Flowers On My Grave Blind Willie McTell\n",
      "Hold Fast Call To Preserve\n",
      "Fish Mr. Scruff\n",
      "Come Death Blood Red Throne\n",
      "Home Again Beach House\n",
      "Mouth Machine Gun Our Last Night\n",
      "Fallen Angel Seelenkrank\n",
      "Settling Down Jerry Cantrell\n",
      "Gerontion A Silent Film\n",
      "The Grove Chuck Ragan\n",
      "Lucky Lips Gale Storm\n",
      "Crushed Eighteen Visions\n",
      "Upon Raging Waves Mithotyn\n",
      "Deep Dark Side Cowboys\n",
      "Under My Skin Paffendorf\n",
      "Your Place In The World The Space Brothers\n",
      "This Would Be Paradise Melissa Auf der Maur\n",
      "Soft Lips Hank Thompson\n",
      "Lay Your Body Down Divinyls\n",
      "The Morning After Tankard\n",
      "Bukkake Tsunami Cattle Decapitation\n",
      "Not Now Coffin Break\n",
      "Devotion Luscious Jackson\n",
      "Peace Be Upon Us Sheryl Crow\n",
      "Last Gravity Kills\n",
      "Henceforth Macbeth\n",
      "Sleeping Beneath The Lawn Spiritus Mortis\n",
      "The Beachcomber Silje Nergaard\n",
      "Sherpa Le Loup\n",
      "On And On Piebald\n",
      "Ocean Cerys Matthews\n",
      "Dig Ophelia Rasputina\n",
      "Release Beyond The Embrace\n",
      "Lost Passion Immolation\n",
      "Centennial Legend Edenbridge\n",
      "Stuck In The Sand Miss Li\n",
      "Bottle Song Rose Chronicles\n"
     ]
    }
   ],
   "source": [
    "for result in results:\n",
    "    print(songs_df['title'].iloc[result], songs_df['artist_name'].iloc[result])"
   ],
   "metadata": {
    "collapsed": false
   }
  },
  {
   "cell_type": "code",
   "execution_count": null,
   "outputs": [],
   "source": [],
   "metadata": {
    "collapsed": false
   }
  }
 ],
 "metadata": {
  "kernelspec": {
   "display_name": "Python 3",
   "language": "python",
   "name": "python3"
  },
  "language_info": {
   "codemirror_mode": {
    "name": "ipython",
    "version": 2
   },
   "file_extension": ".py",
   "mimetype": "text/x-python",
   "name": "python",
   "nbconvert_exporter": "python",
   "pygments_lexer": "ipython2",
   "version": "2.7.6"
  }
 },
 "nbformat": 4,
 "nbformat_minor": 0
}
