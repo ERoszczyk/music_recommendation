{
 "cells": [
  {
   "cell_type": "code",
   "execution_count": 2,
   "outputs": [],
   "source": [
    "import os\n",
    "import sys\n",
    "module_path = os.path.abspath(os.path.join('..'))\n",
    "if module_path not in sys.path:\n",
    "    sys.path.append(module_path)"
   ],
   "metadata": {
    "collapsed": false
   }
  },
  {
   "cell_type": "code",
   "execution_count": 5,
   "metadata": {
    "collapsed": true
   },
   "outputs": [],
   "source": [
    "from typing import List\n",
    "from dao.dao_mxm_objects import DAOMxmObjects\n",
    "from models.mxm_object import MxmObject\n",
    "\n",
    "dao_mxm_objects: DAOMxmObjects = DAOMxmObjects(\"mxm_train\")\n",
    "mxm_objects: List[MxmObject] = dao_mxm_objects.find_all()"
   ]
  },
  {
   "cell_type": "code",
   "execution_count": 2,
   "outputs": [],
   "source": [
    "import pandas as pd\n",
    "\n",
    "def database_data_to_dataframe(data):\n",
    "    headers = data[0].dict().keys()\n",
    "    data_values = [d.dict().values() for d in data]\n",
    "    df = pd.DataFrame(data_values, columns=headers)\n",
    "    return df"
   ],
   "metadata": {
    "collapsed": false
   }
  },
  {
   "cell_type": "code",
   "execution_count": 3,
   "outputs": [],
   "source": [
    "def get_songs_user_has_listened_to(triplets_df, user_id):\n",
    "    return triplets_df.loc[triplets_df['user_id'] == user_id, 'song_id']"
   ],
   "metadata": {
    "collapsed": false
   }
  },
  {
   "cell_type": "code",
   "execution_count": 5,
   "outputs": [],
   "source": [
    "from models.msd_triplet import MsdTriplet\n",
    "from dao.dao_msd_triplets import DAOMsdTriplets\n",
    "\n",
    "dao_triplets: DAOMsdTriplets = DAOMsdTriplets()\n",
    "triplets: List[MsdTriplet] = dao_triplets.find_all()\n",
    "triplets_df = database_data_to_dataframe(triplets)"
   ],
   "metadata": {
    "collapsed": false
   }
  },
  {
   "cell_type": "code",
   "execution_count": 8,
   "outputs": [],
   "source": [
    "user_songs = get_songs_user_has_listened_to(triplets_df, 'b80344d063b5ccb3212f76538f3d9e43d87dca9e')\n",
    "user_songs = user_songs.to_list()"
   ],
   "metadata": {
    "collapsed": false
   }
  },
  {
   "cell_type": "code",
   "execution_count": 10,
   "outputs": [
    {
     "data": {
      "text/plain": "                    msd_id   mxm_id  \\\n0       TRAAAAV128F421A322  4623710   \n1       TRAAABD128F429CF47  6477168   \n2       TRAAAED128E0783FAB  2516445   \n3       TRAAAEF128F4273421  3759847   \n4       TRAAAEW128F42930C0  3783760   \n...                    ...      ...   \n210514  TRZZZWS128F429CF87  3080645   \n210515  TRZZZXA128F428ED56  2344272   \n210516  TRZZZXV128F4289747  1417347   \n210517  TRZZZYV128F92E996D  6849828   \n210518  TRZZZYX128F92D32C6   681124   \n\n                                                attr_list  sentiment  \n0       [{'atrr_id': 1, 'atrr_value': 6}, {'atrr_id': ...  -0.596374  \n1       [{'atrr_id': 1, 'atrr_value': 10}, {'atrr_id':...  -0.734072  \n2       [{'atrr_id': 1, 'atrr_value': 28}, {'atrr_id':...   0.635149  \n3       [{'atrr_id': 1, 'atrr_value': 5}, {'atrr_id': ...  -0.462117  \n4       [{'atrr_id': 1, 'atrr_value': 4}, {'atrr_id': ...  -0.670967  \n...                                                   ...        ...  \n210514  [{'atrr_id': 6, 'atrr_value': 1}, {'atrr_id': ...   0.761594  \n210515  [{'atrr_id': 1, 'atrr_value': 1}, {'atrr_id': ...  -0.062419  \n210516  [{'atrr_id': 1, 'atrr_value': 13}, {'atrr_id':...   0.703906  \n210517  [{'atrr_id': 1, 'atrr_value': 10}, {'atrr_id':...  -0.997936  \n210518  [{'atrr_id': 1, 'atrr_value': 4}, {'atrr_id': ...   0.302710  \n\n[210519 rows x 4 columns]",
      "text/html": "<div>\n<style scoped>\n    .dataframe tbody tr th:only-of-type {\n        vertical-align: middle;\n    }\n\n    .dataframe tbody tr th {\n        vertical-align: top;\n    }\n\n    .dataframe thead th {\n        text-align: right;\n    }\n</style>\n<table border=\"1\" class=\"dataframe\">\n  <thead>\n    <tr style=\"text-align: right;\">\n      <th></th>\n      <th>msd_id</th>\n      <th>mxm_id</th>\n      <th>attr_list</th>\n      <th>sentiment</th>\n    </tr>\n  </thead>\n  <tbody>\n    <tr>\n      <th>0</th>\n      <td>TRAAAAV128F421A322</td>\n      <td>4623710</td>\n      <td>[{'atrr_id': 1, 'atrr_value': 6}, {'atrr_id': ...</td>\n      <td>-0.596374</td>\n    </tr>\n    <tr>\n      <th>1</th>\n      <td>TRAAABD128F429CF47</td>\n      <td>6477168</td>\n      <td>[{'atrr_id': 1, 'atrr_value': 10}, {'atrr_id':...</td>\n      <td>-0.734072</td>\n    </tr>\n    <tr>\n      <th>2</th>\n      <td>TRAAAED128E0783FAB</td>\n      <td>2516445</td>\n      <td>[{'atrr_id': 1, 'atrr_value': 28}, {'atrr_id':...</td>\n      <td>0.635149</td>\n    </tr>\n    <tr>\n      <th>3</th>\n      <td>TRAAAEF128F4273421</td>\n      <td>3759847</td>\n      <td>[{'atrr_id': 1, 'atrr_value': 5}, {'atrr_id': ...</td>\n      <td>-0.462117</td>\n    </tr>\n    <tr>\n      <th>4</th>\n      <td>TRAAAEW128F42930C0</td>\n      <td>3783760</td>\n      <td>[{'atrr_id': 1, 'atrr_value': 4}, {'atrr_id': ...</td>\n      <td>-0.670967</td>\n    </tr>\n    <tr>\n      <th>...</th>\n      <td>...</td>\n      <td>...</td>\n      <td>...</td>\n      <td>...</td>\n    </tr>\n    <tr>\n      <th>210514</th>\n      <td>TRZZZWS128F429CF87</td>\n      <td>3080645</td>\n      <td>[{'atrr_id': 6, 'atrr_value': 1}, {'atrr_id': ...</td>\n      <td>0.761594</td>\n    </tr>\n    <tr>\n      <th>210515</th>\n      <td>TRZZZXA128F428ED56</td>\n      <td>2344272</td>\n      <td>[{'atrr_id': 1, 'atrr_value': 1}, {'atrr_id': ...</td>\n      <td>-0.062419</td>\n    </tr>\n    <tr>\n      <th>210516</th>\n      <td>TRZZZXV128F4289747</td>\n      <td>1417347</td>\n      <td>[{'atrr_id': 1, 'atrr_value': 13}, {'atrr_id':...</td>\n      <td>0.703906</td>\n    </tr>\n    <tr>\n      <th>210517</th>\n      <td>TRZZZYV128F92E996D</td>\n      <td>6849828</td>\n      <td>[{'atrr_id': 1, 'atrr_value': 10}, {'atrr_id':...</td>\n      <td>-0.997936</td>\n    </tr>\n    <tr>\n      <th>210518</th>\n      <td>TRZZZYX128F92D32C6</td>\n      <td>681124</td>\n      <td>[{'atrr_id': 1, 'atrr_value': 4}, {'atrr_id': ...</td>\n      <td>0.302710</td>\n    </tr>\n  </tbody>\n</table>\n<p>210519 rows × 4 columns</p>\n</div>"
     },
     "execution_count": 10,
     "metadata": {},
     "output_type": "execute_result"
    }
   ],
   "source": [
    "mxm_objects_df = database_data_to_dataframe(mxm_objects)\n",
    "mxm_objects_df"
   ],
   "metadata": {
    "collapsed": false
   }
  },
  {
   "cell_type": "code",
   "execution_count": 12,
   "outputs": [],
   "source": [
    "msd_ids_in_mxm = mxm_objects_df['msd_id'].to_list()"
   ],
   "metadata": {
    "collapsed": false
   }
  },
  {
   "cell_type": "code",
   "execution_count": 15,
   "outputs": [
    {
     "data": {
      "text/plain": "[]"
     },
     "execution_count": 15,
     "metadata": {},
     "output_type": "execute_result"
    }
   ],
   "source": [
    "triplets_df.loc[triplets_df['song_id'].isin(msd_ids_in_mxm), 'user_id'].to_list()"
   ],
   "metadata": {
    "collapsed": false
   }
  },
  {
   "cell_type": "code",
   "execution_count": 18,
   "outputs": [],
   "source": [
    "# As there are none songs from mxm, I'll create list of user_song manually\n",
    "user_songs = mxm_objects_df.sample(n=25)\n",
    "user_songs = user_songs['msd_id'].to_list()"
   ],
   "metadata": {
    "collapsed": false
   }
  },
  {
   "cell_type": "code",
   "execution_count": 42,
   "outputs": [
    {
     "data": {
      "text/plain": "                    msd_id   mxm_id  \\\n0       TRAAAAV128F421A322  4623710   \n1       TRAAABD128F429CF47  6477168   \n2       TRAAAED128E0783FAB  2516445   \n3       TRAAAEF128F4273421  3759847   \n4       TRAAAEW128F42930C0  3783760   \n...                    ...      ...   \n210514  TRZZZWS128F429CF87  3080645   \n210515  TRZZZXA128F428ED56  2344272   \n210516  TRZZZXV128F4289747  1417347   \n210517  TRZZZYV128F92E996D  6849828   \n210518  TRZZZYX128F92D32C6   681124   \n\n                                                attr_list  sentiment  \n0       [{'atrr_id': 1, 'atrr_value': 6}, {'atrr_id': ...  -0.596374  \n1       [{'atrr_id': 1, 'atrr_value': 10}, {'atrr_id':...  -0.734072  \n2       [{'atrr_id': 1, 'atrr_value': 28}, {'atrr_id':...   0.635149  \n3       [{'atrr_id': 1, 'atrr_value': 5}, {'atrr_id': ...  -0.462117  \n4       [{'atrr_id': 1, 'atrr_value': 4}, {'atrr_id': ...  -0.670967  \n...                                                   ...        ...  \n210514  [{'atrr_id': 6, 'atrr_value': 1}, {'atrr_id': ...   0.761594  \n210515  [{'atrr_id': 1, 'atrr_value': 1}, {'atrr_id': ...  -0.062419  \n210516  [{'atrr_id': 1, 'atrr_value': 13}, {'atrr_id':...   0.703906  \n210517  [{'atrr_id': 1, 'atrr_value': 10}, {'atrr_id':...  -0.997936  \n210518  [{'atrr_id': 1, 'atrr_value': 4}, {'atrr_id': ...   0.302710  \n\n[210494 rows x 4 columns]",
      "text/html": "<div>\n<style scoped>\n    .dataframe tbody tr th:only-of-type {\n        vertical-align: middle;\n    }\n\n    .dataframe tbody tr th {\n        vertical-align: top;\n    }\n\n    .dataframe thead th {\n        text-align: right;\n    }\n</style>\n<table border=\"1\" class=\"dataframe\">\n  <thead>\n    <tr style=\"text-align: right;\">\n      <th></th>\n      <th>msd_id</th>\n      <th>mxm_id</th>\n      <th>attr_list</th>\n      <th>sentiment</th>\n    </tr>\n  </thead>\n  <tbody>\n    <tr>\n      <th>0</th>\n      <td>TRAAAAV128F421A322</td>\n      <td>4623710</td>\n      <td>[{'atrr_id': 1, 'atrr_value': 6}, {'atrr_id': ...</td>\n      <td>-0.596374</td>\n    </tr>\n    <tr>\n      <th>1</th>\n      <td>TRAAABD128F429CF47</td>\n      <td>6477168</td>\n      <td>[{'atrr_id': 1, 'atrr_value': 10}, {'atrr_id':...</td>\n      <td>-0.734072</td>\n    </tr>\n    <tr>\n      <th>2</th>\n      <td>TRAAAED128E0783FAB</td>\n      <td>2516445</td>\n      <td>[{'atrr_id': 1, 'atrr_value': 28}, {'atrr_id':...</td>\n      <td>0.635149</td>\n    </tr>\n    <tr>\n      <th>3</th>\n      <td>TRAAAEF128F4273421</td>\n      <td>3759847</td>\n      <td>[{'atrr_id': 1, 'atrr_value': 5}, {'atrr_id': ...</td>\n      <td>-0.462117</td>\n    </tr>\n    <tr>\n      <th>4</th>\n      <td>TRAAAEW128F42930C0</td>\n      <td>3783760</td>\n      <td>[{'atrr_id': 1, 'atrr_value': 4}, {'atrr_id': ...</td>\n      <td>-0.670967</td>\n    </tr>\n    <tr>\n      <th>...</th>\n      <td>...</td>\n      <td>...</td>\n      <td>...</td>\n      <td>...</td>\n    </tr>\n    <tr>\n      <th>210514</th>\n      <td>TRZZZWS128F429CF87</td>\n      <td>3080645</td>\n      <td>[{'atrr_id': 6, 'atrr_value': 1}, {'atrr_id': ...</td>\n      <td>0.761594</td>\n    </tr>\n    <tr>\n      <th>210515</th>\n      <td>TRZZZXA128F428ED56</td>\n      <td>2344272</td>\n      <td>[{'atrr_id': 1, 'atrr_value': 1}, {'atrr_id': ...</td>\n      <td>-0.062419</td>\n    </tr>\n    <tr>\n      <th>210516</th>\n      <td>TRZZZXV128F4289747</td>\n      <td>1417347</td>\n      <td>[{'atrr_id': 1, 'atrr_value': 13}, {'atrr_id':...</td>\n      <td>0.703906</td>\n    </tr>\n    <tr>\n      <th>210517</th>\n      <td>TRZZZYV128F92E996D</td>\n      <td>6849828</td>\n      <td>[{'atrr_id': 1, 'atrr_value': 10}, {'atrr_id':...</td>\n      <td>-0.997936</td>\n    </tr>\n    <tr>\n      <th>210518</th>\n      <td>TRZZZYX128F92D32C6</td>\n      <td>681124</td>\n      <td>[{'atrr_id': 1, 'atrr_value': 4}, {'atrr_id': ...</td>\n      <td>0.302710</td>\n    </tr>\n  </tbody>\n</table>\n<p>210494 rows × 4 columns</p>\n</div>"
     },
     "execution_count": 42,
     "metadata": {},
     "output_type": "execute_result"
    }
   ],
   "source": [
    "sentiment_diff_df = mxm_objects_df.copy()\n",
    "sentiment_diff_df.drop(mxm_objects_df.loc[mxm_objects_df['msd_id'].isin(user_songs)].index, inplace=True)"
   ],
   "metadata": {
    "collapsed": false
   }
  },
  {
   "cell_type": "code",
   "execution_count": 48,
   "outputs": [
    {
     "name": "stdout",
     "output_type": "stream",
     "text": [
      "                    msd_id   mxm_id  \\\n",
      "0       TRAAAAV128F421A322  4623710   \n",
      "1       TRAAABD128F429CF47  6477168   \n",
      "2       TRAAAED128E0783FAB  2516445   \n",
      "3       TRAAAEF128F4273421  3759847   \n",
      "4       TRAAAEW128F42930C0  3783760   \n",
      "...                    ...      ...   \n",
      "210514  TRZZZWS128F429CF87  3080645   \n",
      "210515  TRZZZXA128F428ED56  2344272   \n",
      "210516  TRZZZXV128F4289747  1417347   \n",
      "210517  TRZZZYV128F92E996D  6849828   \n",
      "210518  TRZZZYX128F92D32C6   681124   \n",
      "\n",
      "                                                attr_list  sentiment  \\\n",
      "0       [{'atrr_id': 1, 'atrr_value': 6}, {'atrr_id': ...  -0.596374   \n",
      "1       [{'atrr_id': 1, 'atrr_value': 10}, {'atrr_id':...  -0.734072   \n",
      "2       [{'atrr_id': 1, 'atrr_value': 28}, {'atrr_id':...   0.635149   \n",
      "3       [{'atrr_id': 1, 'atrr_value': 5}, {'atrr_id': ...  -0.462117   \n",
      "4       [{'atrr_id': 1, 'atrr_value': 4}, {'atrr_id': ...  -0.670967   \n",
      "...                                                   ...        ...   \n",
      "210514  [{'atrr_id': 6, 'atrr_value': 1}, {'atrr_id': ...   0.761594   \n",
      "210515  [{'atrr_id': 1, 'atrr_value': 1}, {'atrr_id': ...  -0.062419   \n",
      "210516  [{'atrr_id': 1, 'atrr_value': 13}, {'atrr_id':...   0.703906   \n",
      "210517  [{'atrr_id': 1, 'atrr_value': 10}, {'atrr_id':...  -0.997936   \n",
      "210518  [{'atrr_id': 1, 'atrr_value': 4}, {'atrr_id': ...   0.302710   \n",
      "\n",
      "        sentiment_diff  \n",
      "0            12.027221  \n",
      "1            13.788771  \n",
      "2            22.944754  \n",
      "3            11.373809  \n",
      "4            12.847750  \n",
      "...                ...  \n",
      "210514       25.528468  \n",
      "210515       13.119440  \n",
      "210516       24.317008  \n",
      "210517       19.205739  \n",
      "210518       17.741273  \n",
      "\n",
      "[210494 rows x 5 columns]\n"
     ]
    }
   ],
   "source": [
    "sentiment_diff_df = mxm_objects_df.copy()\n",
    "sentiment_diff_df.drop(mxm_objects_df.loc[mxm_objects_df['msd_id'].isin(user_songs)].index, inplace=True)\n",
    "sentiment_diff_df['sentiment_diff'] = 0\n",
    "for song in user_songs:\n",
    "    song_sentiment = mxm_objects_df.loc[mxm_objects_df['msd_id'] == song, 'sentiment']\n",
    "    # df[df['line_race']==0].index\n",
    "    sentiment_diff_df['sentiment_diff'] = sentiment_diff_df['sentiment_diff'].add((mxm_objects_df['sentiment']-song_sentiment.values[0]).abs())\n",
    "    # df_closest = mxm_objects_df.iloc[(mxm_objects_df['sentiment']-song_sentiment).abs().argsort()[:1]]\n",
    "    # print(sentiment_diff_df)\n",
    "# sentiment_diff_df['sentiment_diff'] = sentiment_diff_df['sentiment_diff'] / len(user_songs)\n",
    "print(sentiment_diff_df)"
   ],
   "metadata": {
    "collapsed": false
   }
  },
  {
   "cell_type": "code",
   "execution_count": 49,
   "outputs": [
    {
     "data": {
      "text/plain": "                    msd_id   mxm_id  \\\n141545  TRRKCZV128F1490360  8415109   \n33852   TREDOHA128F4281ADA  2885045   \n201888  TRYXSGH128F932E0C8  5589094   \n156659  TRTGUXS128F934529B   823524   \n201891  TRYXSRB128F933F608  3377119   \n...                    ...      ...   \n163784  TRUEHFY128E0798A7C  5156067   \n162268  TRTZJOL128F427C0A8  5342924   \n139071  TRRCLWL12903CA3682  6235627   \n44755   TRFMLVA128F4261870   919545   \n27219   TRDIEOU128F4261A22   775220   \n\n                                                attr_list  sentiment  \\\n141545  [{'atrr_id': 1, 'atrr_value': 14}, {'atrr_id':...  -0.358357   \n33852   [{'atrr_id': 1, 'atrr_value': 17}, {'atrr_id':...  -0.358357   \n201888  [{'atrr_id': 1, 'atrr_value': 4}, {'atrr_id': ...  -0.358357   \n156659  [{'atrr_id': 1, 'atrr_value': 6}, {'atrr_id': ...  -0.358357   \n201891  [{'atrr_id': 2, 'atrr_value': 7}, {'atrr_id': ...  -0.358357   \n...                                                   ...        ...   \n163784  [{'atrr_id': 1, 'atrr_value': 7}, {'atrr_id': ...   1.000000   \n162268  [{'atrr_id': 1, 'atrr_value': 54}, {'atrr_id':...   1.000000   \n139071  [{'atrr_id': 1, 'atrr_value': 6}, {'atrr_id': ...   1.000000   \n44755   [{'atrr_id': 1, 'atrr_value': 253}, {'atrr_id'...   1.000000   \n27219   [{'atrr_id': 1, 'atrr_value': 1110}, {'atrr_id...   1.000000   \n\n        sentiment_diff  \n141545       11.270049  \n33852        11.270049  \n201888       11.270049  \n156659       11.270049  \n201891       11.270049  \n...                ...  \n163784       30.742649  \n162268       30.742649  \n139071       30.742649  \n44755        30.742649  \n27219        30.742649  \n\n[210494 rows x 5 columns]",
      "text/html": "<div>\n<style scoped>\n    .dataframe tbody tr th:only-of-type {\n        vertical-align: middle;\n    }\n\n    .dataframe tbody tr th {\n        vertical-align: top;\n    }\n\n    .dataframe thead th {\n        text-align: right;\n    }\n</style>\n<table border=\"1\" class=\"dataframe\">\n  <thead>\n    <tr style=\"text-align: right;\">\n      <th></th>\n      <th>msd_id</th>\n      <th>mxm_id</th>\n      <th>attr_list</th>\n      <th>sentiment</th>\n      <th>sentiment_diff</th>\n    </tr>\n  </thead>\n  <tbody>\n    <tr>\n      <th>141545</th>\n      <td>TRRKCZV128F1490360</td>\n      <td>8415109</td>\n      <td>[{'atrr_id': 1, 'atrr_value': 14}, {'atrr_id':...</td>\n      <td>-0.358357</td>\n      <td>11.270049</td>\n    </tr>\n    <tr>\n      <th>33852</th>\n      <td>TREDOHA128F4281ADA</td>\n      <td>2885045</td>\n      <td>[{'atrr_id': 1, 'atrr_value': 17}, {'atrr_id':...</td>\n      <td>-0.358357</td>\n      <td>11.270049</td>\n    </tr>\n    <tr>\n      <th>201888</th>\n      <td>TRYXSGH128F932E0C8</td>\n      <td>5589094</td>\n      <td>[{'atrr_id': 1, 'atrr_value': 4}, {'atrr_id': ...</td>\n      <td>-0.358357</td>\n      <td>11.270049</td>\n    </tr>\n    <tr>\n      <th>156659</th>\n      <td>TRTGUXS128F934529B</td>\n      <td>823524</td>\n      <td>[{'atrr_id': 1, 'atrr_value': 6}, {'atrr_id': ...</td>\n      <td>-0.358357</td>\n      <td>11.270049</td>\n    </tr>\n    <tr>\n      <th>201891</th>\n      <td>TRYXSRB128F933F608</td>\n      <td>3377119</td>\n      <td>[{'atrr_id': 2, 'atrr_value': 7}, {'atrr_id': ...</td>\n      <td>-0.358357</td>\n      <td>11.270049</td>\n    </tr>\n    <tr>\n      <th>...</th>\n      <td>...</td>\n      <td>...</td>\n      <td>...</td>\n      <td>...</td>\n      <td>...</td>\n    </tr>\n    <tr>\n      <th>163784</th>\n      <td>TRUEHFY128E0798A7C</td>\n      <td>5156067</td>\n      <td>[{'atrr_id': 1, 'atrr_value': 7}, {'atrr_id': ...</td>\n      <td>1.000000</td>\n      <td>30.742649</td>\n    </tr>\n    <tr>\n      <th>162268</th>\n      <td>TRTZJOL128F427C0A8</td>\n      <td>5342924</td>\n      <td>[{'atrr_id': 1, 'atrr_value': 54}, {'atrr_id':...</td>\n      <td>1.000000</td>\n      <td>30.742649</td>\n    </tr>\n    <tr>\n      <th>139071</th>\n      <td>TRRCLWL12903CA3682</td>\n      <td>6235627</td>\n      <td>[{'atrr_id': 1, 'atrr_value': 6}, {'atrr_id': ...</td>\n      <td>1.000000</td>\n      <td>30.742649</td>\n    </tr>\n    <tr>\n      <th>44755</th>\n      <td>TRFMLVA128F4261870</td>\n      <td>919545</td>\n      <td>[{'atrr_id': 1, 'atrr_value': 253}, {'atrr_id'...</td>\n      <td>1.000000</td>\n      <td>30.742649</td>\n    </tr>\n    <tr>\n      <th>27219</th>\n      <td>TRDIEOU128F4261A22</td>\n      <td>775220</td>\n      <td>[{'atrr_id': 1, 'atrr_value': 1110}, {'atrr_id...</td>\n      <td>1.000000</td>\n      <td>30.742649</td>\n    </tr>\n  </tbody>\n</table>\n<p>210494 rows × 5 columns</p>\n</div>"
     },
     "execution_count": 49,
     "metadata": {},
     "output_type": "execute_result"
    }
   ],
   "source": [
    "sentiment_diff_df.sort_values(by='sentiment_diff')"
   ],
   "metadata": {
    "collapsed": false
   }
  },
  {
   "cell_type": "code",
   "execution_count": 50,
   "outputs": [
    {
     "data": {
      "text/plain": "['TRALXRK12903CCDC09',\n 'TROAXFG128F934AA59',\n 'TRTNMMW12903CD608E',\n 'TRHOXJK128F14A13F2',\n 'TRPICRI12903CF7D31',\n 'TRGXHXN128F92E29FC',\n 'TRITHJY128F9304D97',\n 'TRUKPHI12903CC1814',\n 'TRWHHWK128F146AB78',\n 'TRNFWBY128E07920F2',\n 'TRTOSGL128F42AD10E',\n 'TRCIXZO128F1485B69',\n 'TRVZKUJ128F42920AC',\n 'TRIYGLI128F92F667B',\n 'TRPQRTE128F14A8C0D',\n 'TRHNNPD128F4293E53',\n 'TRPHDLW12903CE840F',\n 'TRGLHVP128F4298E87',\n 'TRUPSUA12903CC6B7D',\n 'TRPWWHQ128F428255B',\n 'TRYPTDF128F92F40E2',\n 'TREHYSY128F148E0D6',\n 'TRVIXSO128F146EEDB',\n 'TREXKXF128F14641BA',\n 'TRXWBDW128F427D0DC']"
     },
     "execution_count": 50,
     "metadata": {},
     "output_type": "execute_result"
    }
   ],
   "source": [
    "user_songs"
   ],
   "metadata": {
    "collapsed": false
   }
  },
  {
   "cell_type": "code",
   "execution_count": null,
   "outputs": [],
   "source": [],
   "metadata": {
    "collapsed": false
   }
  }
 ],
 "metadata": {
  "kernelspec": {
   "display_name": "Python 3",
   "language": "python",
   "name": "python3"
  },
  "language_info": {
   "codemirror_mode": {
    "name": "ipython",
    "version": 2
   },
   "file_extension": ".py",
   "mimetype": "text/x-python",
   "name": "python",
   "nbconvert_exporter": "python",
   "pygments_lexer": "ipython2",
   "version": "2.7.6"
  }
 },
 "nbformat": 4,
 "nbformat_minor": 0
}
