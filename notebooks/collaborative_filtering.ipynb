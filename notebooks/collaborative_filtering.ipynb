{
 "cells": [
  {
   "cell_type": "markdown",
   "source": [
    "# Environment configuration"
   ],
   "metadata": {
    "collapsed": false
   }
  },
  {
   "cell_type": "code",
   "execution_count": 1,
   "metadata": {
    "collapsed": true
   },
   "outputs": [],
   "source": [
    "# if libraries versions are not compatible\n",
    "# !pip install -r ../requirements.txt"
   ]
  },
  {
   "cell_type": "code",
   "execution_count": 4,
   "outputs": [
    {
     "name": "stdout",
     "output_type": "stream",
     "text": [
      "Running on single GPU  /device:GPU:0\n",
      "Number of accelerators:  1\n",
      "____________________________________________________________________________________\n",
      "Device List: \n",
      "[name: \"/device:CPU:0\"\n",
      "device_type: \"CPU\"\n",
      "memory_limit: 268435456\n",
      "locality {\n",
      "}\n",
      "incarnation: 16507020500044197324\n",
      "xla_global_id: -1\n",
      ", name: \"/device:GPU:0\"\n",
      "device_type: \"GPU\"\n",
      "memory_limit: 1721342363\n",
      "locality {\n",
      "  bus_id: 1\n",
      "  links {\n",
      "  }\n",
      "}\n",
      "incarnation: 5394599521856874168\n",
      "physical_device_desc: \"device: 0, name: NVIDIA GeForce RTX 3050 Ti Laptop GPU, pci bus id: 0000:01:00.0, compute capability: 8.6\"\n",
      "xla_global_id: 416903419\n",
      "]\n"
     ]
    }
   ],
   "source": [
    "# to check if working on GPU\n",
    "# !pip install DeepSaki\n",
    "from tensorflow import keras\n",
    "import DeepSaki\n",
    "strategy, RUNTIME_ENVIRONMENT, hw_accelerator_handle = DeepSaki.utils.DetectHw()"
   ],
   "metadata": {
    "collapsed": false
   }
  },
  {
   "cell_type": "markdown",
   "source": [
    "# Collaborative filtering"
   ],
   "metadata": {
    "collapsed": false
   }
  },
  {
   "cell_type": "code",
   "execution_count": 5,
   "outputs": [],
   "source": [
    "import pandas as pd\n",
    "import matplotlib.pyplot as plt"
   ],
   "metadata": {
    "collapsed": false
   }
  },
  {
   "cell_type": "code",
   "execution_count": 8,
   "outputs": [],
   "source": [
    "song_df = pd.read_csv('../data/0_raw/msd_data/song_data.csv', sep=\",\", header=0)\n",
    "triplets_df = pd.read_csv('../data/0_raw/msd_data/triplets_file.csv', sep=\",\", header=0)"
   ],
   "metadata": {
    "collapsed": false
   }
  },
  {
   "cell_type": "markdown",
   "source": [
    "### Listen count to rating\n",
    "\n",
    "listen_count = 1 -> rating = 0 (nutral or disliked)\n",
    "\n",
    "listen_count > 1 and listen_count <= 7 -> rating = 1\n",
    "\n",
    "listen_count > 7 and listen_count <= 20 -> rating = 2\n",
    "\n",
    "listen_count > 20 -> rating = 3"
   ],
   "metadata": {
    "collapsed": false
   }
  },
  {
   "cell_type": "code",
   "execution_count": 9,
   "outputs": [],
   "source": [
    "def get_rating_from_listen_count(df, num1, num2, num3):\n",
    "    ratings = []\n",
    "    for count in list(df.listen_count):\n",
    "        if count == num1:\n",
    "            ratings.append(0)\n",
    "        elif count > num1 and count <= num2:\n",
    "            ratings.append(1)\n",
    "        elif count > num2 and count <= num3:\n",
    "            ratings.append(2)\n",
    "        elif count > num3:\n",
    "            ratings.append(3)\n",
    "        else:\n",
    "            raise ValueError()\n",
    "    df['rating'] = ratings\n",
    "    return df"
   ],
   "metadata": {
    "collapsed": false
   }
  },
  {
   "cell_type": "code",
   "execution_count": 10,
   "outputs": [
    {
     "data": {
      "text/plain": "<Figure size 432x288 with 1 Axes>",
      "image/png": "[encoded data removed]"
     },
     "metadata": {
      "needs_background": "light"
     },
     "output_type": "display_data"
    }
   ],
   "source": [
    "ratings_df = get_rating_from_listen_count(triplets_df, 1, 7, 20)\n",
    "plt.hist(ratings_df['rating'], bins=4)\n",
    "plt.yscale('log')\n",
    "plt.show()"
   ],
   "metadata": {
    "collapsed": false
   }
  },
  {
   "cell_type": "markdown",
   "source": [
    "### Reduce dataframe due to a high memory usage\n",
    "\n",
    "Get only songs 'rated' (listened) more than 100 times"
   ],
   "metadata": {
    "collapsed": false
   }
  },
  {
   "cell_type": "code",
   "execution_count": 11,
   "outputs": [
    {
     "data": {
      "text/plain": "   Unnamed: 0             song_id  ratings_amount\n0           0  SOAKIMP12A8C130995             194\n1           1  SOBBMDR12A8C13253B             157\n2           2  SOBXHDL12A81C204C0            1082\n3           3  SOBYHAJ12A6701BF1D             557\n4           4  SODACBL12A8C13C273             917",
      "text/html": "<div>\n<style scoped>\n    .dataframe tbody tr th:only-of-type {\n        vertical-align: middle;\n    }\n\n    .dataframe tbody tr th {\n        vertical-align: top;\n    }\n\n    .dataframe thead th {\n        text-align: right;\n    }\n</style>\n<table border=\"1\" class=\"dataframe\">\n  <thead>\n    <tr style=\"text-align: right;\">\n      <th></th>\n      <th>Unnamed: 0</th>\n      <th>song_id</th>\n      <th>ratings_amount</th>\n    </tr>\n  </thead>\n  <tbody>\n    <tr>\n      <th>0</th>\n      <td>0</td>\n      <td>SOAKIMP12A8C130995</td>\n      <td>194</td>\n    </tr>\n    <tr>\n      <th>1</th>\n      <td>1</td>\n      <td>SOBBMDR12A8C13253B</td>\n      <td>157</td>\n    </tr>\n    <tr>\n      <th>2</th>\n      <td>2</td>\n      <td>SOBXHDL12A81C204C0</td>\n      <td>1082</td>\n    </tr>\n    <tr>\n      <th>3</th>\n      <td>3</td>\n      <td>SOBYHAJ12A6701BF1D</td>\n      <td>557</td>\n    </tr>\n    <tr>\n      <th>4</th>\n      <td>4</td>\n      <td>SODACBL12A8C13C273</td>\n      <td>917</td>\n    </tr>\n  </tbody>\n</table>\n</div>"
     },
     "execution_count": 11,
     "metadata": {},
     "output_type": "execute_result"
    }
   ],
   "source": [
    "song_ratings_amount = pd.read_csv('../data/1_interim/song_ratings_amount.csv', sep=\",\")\n",
    "song_ratings_amount.head()"
   ],
   "metadata": {
    "collapsed": false
   }
  },
  {
   "cell_type": "code",
   "execution_count": 12,
   "outputs": [],
   "source": [
    "ratings_amount = 100\n",
    "song_ratings_amount.sort_values(by=['ratings_amount'], inplace=True, ascending=False)\n",
    "songs_100_ratings = song_ratings_amount[song_ratings_amount['ratings_amount'] >= ratings_amount]"
   ],
   "metadata": {
    "collapsed": false
   }
  },
  {
   "cell_type": "code",
   "execution_count": 13,
   "outputs": [],
   "source": [
    "songs_100_ratings_list = list(songs_100_ratings['song_id'])"
   ],
   "metadata": {
    "collapsed": false
   }
  },
  {
   "cell_type": "code",
   "execution_count": 14,
   "outputs": [],
   "source": [
    "triplets_ratings_df = ratings_df[(ratings_df['song_id'].isin(songs_100_ratings_list))]"
   ],
   "metadata": {
    "collapsed": false
   }
  },
  {
   "cell_type": "code",
   "execution_count": 17,
   "outputs": [],
   "source": [
    "# reduce df due to 43GiB memory allocation\n",
    "reduced_triplets_df = triplets_ratings_df[:500000]"
   ],
   "metadata": {
    "collapsed": false
   }
  },
  {
   "cell_type": "markdown",
   "source": [
    "### Matrix with user_id and song_id and ratings as values"
   ],
   "metadata": {
    "collapsed": false
   }
  },
  {
   "cell_type": "code",
   "execution_count": 18,
   "outputs": [
    {
     "data": {
      "text/plain": "song_id                                   SOAACPJ12A81C21360  \\\nuser_id                                                        \n00003a4459f33b92906be11abe0e93efc423c0ff                 NaN   \n00005c6177188f12fb5e2e82cdbd93e8a3f35e64                 NaN   \n0007c0e74728ca9ef0fe4eb7f75732e8026a278b                 NaN   \n000b474f815bcff17a4bc9ce5324f9352dafe07d                 NaN   \n000b4e4134d5f77d7608fbf86fb3e1adac4478a8                 NaN   \n\nsong_id                                   SOAAFAC12A67ADF7EB  \\\nuser_id                                                        \n00003a4459f33b92906be11abe0e93efc423c0ff                 NaN   \n00005c6177188f12fb5e2e82cdbd93e8a3f35e64                 NaN   \n0007c0e74728ca9ef0fe4eb7f75732e8026a278b                 NaN   \n000b474f815bcff17a4bc9ce5324f9352dafe07d                 NaN   \n000b4e4134d5f77d7608fbf86fb3e1adac4478a8                 NaN   \n\nsong_id                                   SOAAFYH12A8C13717A  \\\nuser_id                                                        \n00003a4459f33b92906be11abe0e93efc423c0ff                 NaN   \n00005c6177188f12fb5e2e82cdbd93e8a3f35e64                 NaN   \n0007c0e74728ca9ef0fe4eb7f75732e8026a278b                 NaN   \n000b474f815bcff17a4bc9ce5324f9352dafe07d                 NaN   \n000b4e4134d5f77d7608fbf86fb3e1adac4478a8                 NaN   \n\nsong_id                                   SOAAROC12A6D4FA420  \\\nuser_id                                                        \n00003a4459f33b92906be11abe0e93efc423c0ff                 NaN   \n00005c6177188f12fb5e2e82cdbd93e8a3f35e64                 NaN   \n0007c0e74728ca9ef0fe4eb7f75732e8026a278b                 NaN   \n000b474f815bcff17a4bc9ce5324f9352dafe07d                 NaN   \n000b4e4134d5f77d7608fbf86fb3e1adac4478a8                 NaN   \n\nsong_id                                   SOAATLI12A8C13E319  \\\nuser_id                                                        \n00003a4459f33b92906be11abe0e93efc423c0ff                 NaN   \n00005c6177188f12fb5e2e82cdbd93e8a3f35e64                 NaN   \n0007c0e74728ca9ef0fe4eb7f75732e8026a278b                 NaN   \n000b474f815bcff17a4bc9ce5324f9352dafe07d                 NaN   \n000b4e4134d5f77d7608fbf86fb3e1adac4478a8                 NaN   \n\nsong_id                                   SOAAUKC12AB017F868  \\\nuser_id                                                        \n00003a4459f33b92906be11abe0e93efc423c0ff                 NaN   \n00005c6177188f12fb5e2e82cdbd93e8a3f35e64                 NaN   \n0007c0e74728ca9ef0fe4eb7f75732e8026a278b                 NaN   \n000b474f815bcff17a4bc9ce5324f9352dafe07d                 NaN   \n000b4e4134d5f77d7608fbf86fb3e1adac4478a8                 NaN   \n\nsong_id                                   SOAAVUV12AB0186646  \\\nuser_id                                                        \n00003a4459f33b92906be11abe0e93efc423c0ff                 NaN   \n00005c6177188f12fb5e2e82cdbd93e8a3f35e64                 NaN   \n0007c0e74728ca9ef0fe4eb7f75732e8026a278b                 NaN   \n000b474f815bcff17a4bc9ce5324f9352dafe07d                 NaN   \n000b4e4134d5f77d7608fbf86fb3e1adac4478a8                 NaN   \n\nsong_id                                   SOAAWEE12A6D4FBEC8  \\\nuser_id                                                        \n00003a4459f33b92906be11abe0e93efc423c0ff                 NaN   \n00005c6177188f12fb5e2e82cdbd93e8a3f35e64                 NaN   \n0007c0e74728ca9ef0fe4eb7f75732e8026a278b                 NaN   \n000b474f815bcff17a4bc9ce5324f9352dafe07d                 NaN   \n000b4e4134d5f77d7608fbf86fb3e1adac4478a8                 NaN   \n\nsong_id                                   SOABHYV12A6D4F6D0F  \\\nuser_id                                                        \n00003a4459f33b92906be11abe0e93efc423c0ff                 NaN   \n00005c6177188f12fb5e2e82cdbd93e8a3f35e64                 NaN   \n0007c0e74728ca9ef0fe4eb7f75732e8026a278b                 NaN   \n000b474f815bcff17a4bc9ce5324f9352dafe07d                 NaN   \n000b4e4134d5f77d7608fbf86fb3e1adac4478a8                 NaN   \n\nsong_id                                   SOABJBU12A8C13F63F  ...  \\\nuser_id                                                       ...   \n00003a4459f33b92906be11abe0e93efc423c0ff                 NaN  ...   \n00005c6177188f12fb5e2e82cdbd93e8a3f35e64                 NaN  ...   \n0007c0e74728ca9ef0fe4eb7f75732e8026a278b                 NaN  ...   \n000b474f815bcff17a4bc9ce5324f9352dafe07d                 NaN  ...   \n000b4e4134d5f77d7608fbf86fb3e1adac4478a8                 NaN  ...   \n\nsong_id                                   SOZYUGZ12A8AE472AC  \\\nuser_id                                                        \n00003a4459f33b92906be11abe0e93efc423c0ff                 NaN   \n00005c6177188f12fb5e2e82cdbd93e8a3f35e64                 NaN   \n0007c0e74728ca9ef0fe4eb7f75732e8026a278b                 NaN   \n000b474f815bcff17a4bc9ce5324f9352dafe07d                 NaN   \n000b4e4134d5f77d7608fbf86fb3e1adac4478a8                 NaN   \n\nsong_id                                   SOZZFTH12A6701E983  \\\nuser_id                                                        \n00003a4459f33b92906be11abe0e93efc423c0ff                 NaN   \n00005c6177188f12fb5e2e82cdbd93e8a3f35e64                 NaN   \n0007c0e74728ca9ef0fe4eb7f75732e8026a278b                 NaN   \n000b474f815bcff17a4bc9ce5324f9352dafe07d                 NaN   \n000b4e4134d5f77d7608fbf86fb3e1adac4478a8                 NaN   \n\nsong_id                                   SOZZHQT12AB018B714  \\\nuser_id                                                        \n00003a4459f33b92906be11abe0e93efc423c0ff                 NaN   \n00005c6177188f12fb5e2e82cdbd93e8a3f35e64                 NaN   \n0007c0e74728ca9ef0fe4eb7f75732e8026a278b                 NaN   \n000b474f815bcff17a4bc9ce5324f9352dafe07d                 NaN   \n000b4e4134d5f77d7608fbf86fb3e1adac4478a8                 NaN   \n\nsong_id                                   SOZZIOH12A67ADE300  \\\nuser_id                                                        \n00003a4459f33b92906be11abe0e93efc423c0ff                 NaN   \n00005c6177188f12fb5e2e82cdbd93e8a3f35e64                 NaN   \n0007c0e74728ca9ef0fe4eb7f75732e8026a278b                 NaN   \n000b474f815bcff17a4bc9ce5324f9352dafe07d                 NaN   \n000b4e4134d5f77d7608fbf86fb3e1adac4478a8                 NaN   \n\nsong_id                                   SOZZLZN12A8AE48D6D  \\\nuser_id                                                        \n00003a4459f33b92906be11abe0e93efc423c0ff                 NaN   \n00005c6177188f12fb5e2e82cdbd93e8a3f35e64                 NaN   \n0007c0e74728ca9ef0fe4eb7f75732e8026a278b                 NaN   \n000b474f815bcff17a4bc9ce5324f9352dafe07d                 NaN   \n000b4e4134d5f77d7608fbf86fb3e1adac4478a8                 NaN   \n\nsong_id                                   SOZZRHE12A6702165F  \\\nuser_id                                                        \n00003a4459f33b92906be11abe0e93efc423c0ff                 NaN   \n00005c6177188f12fb5e2e82cdbd93e8a3f35e64                 NaN   \n0007c0e74728ca9ef0fe4eb7f75732e8026a278b                 NaN   \n000b474f815bcff17a4bc9ce5324f9352dafe07d                 NaN   \n000b4e4134d5f77d7608fbf86fb3e1adac4478a8                 NaN   \n\nsong_id                                   SOZZTCU12AB0182C58  \\\nuser_id                                                        \n00003a4459f33b92906be11abe0e93efc423c0ff                 NaN   \n00005c6177188f12fb5e2e82cdbd93e8a3f35e64                 NaN   \n0007c0e74728ca9ef0fe4eb7f75732e8026a278b                 NaN   \n000b474f815bcff17a4bc9ce5324f9352dafe07d                 NaN   \n000b4e4134d5f77d7608fbf86fb3e1adac4478a8                 NaN   \n\nsong_id                                   SOZZTNF12A8C139916  \\\nuser_id                                                        \n00003a4459f33b92906be11abe0e93efc423c0ff                 NaN   \n00005c6177188f12fb5e2e82cdbd93e8a3f35e64                 NaN   \n0007c0e74728ca9ef0fe4eb7f75732e8026a278b                 NaN   \n000b474f815bcff17a4bc9ce5324f9352dafe07d                 NaN   \n000b4e4134d5f77d7608fbf86fb3e1adac4478a8                 NaN   \n\nsong_id                                   SOZZVWB12AB0189C30  \\\nuser_id                                                        \n00003a4459f33b92906be11abe0e93efc423c0ff                 NaN   \n00005c6177188f12fb5e2e82cdbd93e8a3f35e64                 NaN   \n0007c0e74728ca9ef0fe4eb7f75732e8026a278b                 NaN   \n000b474f815bcff17a4bc9ce5324f9352dafe07d                 NaN   \n000b4e4134d5f77d7608fbf86fb3e1adac4478a8                 NaN   \n\nsong_id                                   SOZZWZV12A67AE140F  \nuser_id                                                       \n00003a4459f33b92906be11abe0e93efc423c0ff                 NaN  \n00005c6177188f12fb5e2e82cdbd93e8a3f35e64                 NaN  \n0007c0e74728ca9ef0fe4eb7f75732e8026a278b                 NaN  \n000b474f815bcff17a4bc9ce5324f9352dafe07d                 NaN  \n000b4e4134d5f77d7608fbf86fb3e1adac4478a8                 NaN  \n\n[5 rows x 6574 columns]",
      "text/html": "<div>\n<style scoped>\n    .dataframe tbody tr th:only-of-type {\n        vertical-align: middle;\n    }\n\n    .dataframe tbody tr th {\n        vertical-align: top;\n    }\n\n    .dataframe thead th {\n        text-align: right;\n    }\n</style>\n<table border=\"1\" class=\"dataframe\">\n  <thead>\n    <tr style=\"text-align: right;\">\n      <th>song_id</th>\n      <th>SOAACPJ12A81C21360</th>\n      <th>SOAAFAC12A67ADF7EB</th>\n      <th>SOAAFYH12A8C13717A</th>\n      <th>SOAAROC12A6D4FA420</th>\n      <th>SOAATLI12A8C13E319</th>\n      <th>SOAAUKC12AB017F868</th>\n      <th>SOAAVUV12AB0186646</th>\n      <th>SOAAWEE12A6D4FBEC8</th>\n      <th>SOABHYV12A6D4F6D0F</th>\n      <th>SOABJBU12A8C13F63F</th>\n      <th>...</th>\n      <th>SOZYUGZ12A8AE472AC</th>\n      <th>SOZZFTH12A6701E983</th>\n      <th>SOZZHQT12AB018B714</th>\n      <th>SOZZIOH12A67ADE300</th>\n      <th>SOZZLZN12A8AE48D6D</th>\n      <th>SOZZRHE12A6702165F</th>\n      <th>SOZZTCU12AB0182C58</th>\n      <th>SOZZTNF12A8C139916</th>\n      <th>SOZZVWB12AB0189C30</th>\n      <th>SOZZWZV12A67AE140F</th>\n    </tr>\n    <tr>\n      <th>user_id</th>\n      <th></th>\n      <th></th>\n      <th></th>\n      <th></th>\n      <th></th>\n      <th></th>\n      <th></th>\n      <th></th>\n      <th></th>\n      <th></th>\n      <th></th>\n      <th></th>\n      <th></th>\n      <th></th>\n      <th></th>\n      <th></th>\n      <th></th>\n      <th></th>\n      <th></th>\n      <th></th>\n      <th></th>\n    </tr>\n  </thead>\n  <tbody>\n    <tr>\n      <th>00003a4459f33b92906be11abe0e93efc423c0ff</th>\n      <td>NaN</td>\n      <td>NaN</td>\n      <td>NaN</td>\n      <td>NaN</td>\n      <td>NaN</td>\n      <td>NaN</td>\n      <td>NaN</td>\n      <td>NaN</td>\n      <td>NaN</td>\n      <td>NaN</td>\n      <td>...</td>\n      <td>NaN</td>\n      <td>NaN</td>\n      <td>NaN</td>\n      <td>NaN</td>\n      <td>NaN</td>\n      <td>NaN</td>\n      <td>NaN</td>\n      <td>NaN</td>\n      <td>NaN</td>\n      <td>NaN</td>\n    </tr>\n    <tr>\n      <th>00005c6177188f12fb5e2e82cdbd93e8a3f35e64</th>\n      <td>NaN</td>\n      <td>NaN</td>\n      <td>NaN</td>\n      <td>NaN</td>\n      <td>NaN</td>\n      <td>NaN</td>\n      <td>NaN</td>\n      <td>NaN</td>\n      <td>NaN</td>\n      <td>NaN</td>\n      <td>...</td>\n      <td>NaN</td>\n      <td>NaN</td>\n      <td>NaN</td>\n      <td>NaN</td>\n      <td>NaN</td>\n      <td>NaN</td>\n      <td>NaN</td>\n      <td>NaN</td>\n      <td>NaN</td>\n      <td>NaN</td>\n    </tr>\n    <tr>\n      <th>0007c0e74728ca9ef0fe4eb7f75732e8026a278b</th>\n      <td>NaN</td>\n      <td>NaN</td>\n      <td>NaN</td>\n      <td>NaN</td>\n      <td>NaN</td>\n      <td>NaN</td>\n      <td>NaN</td>\n      <td>NaN</td>\n      <td>NaN</td>\n      <td>NaN</td>\n      <td>...</td>\n      <td>NaN</td>\n      <td>NaN</td>\n      <td>NaN</td>\n      <td>NaN</td>\n      <td>NaN</td>\n      <td>NaN</td>\n      <td>NaN</td>\n      <td>NaN</td>\n      <td>NaN</td>\n      <td>NaN</td>\n    </tr>\n    <tr>\n      <th>000b474f815bcff17a4bc9ce5324f9352dafe07d</th>\n      <td>NaN</td>\n      <td>NaN</td>\n      <td>NaN</td>\n      <td>NaN</td>\n      <td>NaN</td>\n      <td>NaN</td>\n      <td>NaN</td>\n      <td>NaN</td>\n      <td>NaN</td>\n      <td>NaN</td>\n      <td>...</td>\n      <td>NaN</td>\n      <td>NaN</td>\n      <td>NaN</td>\n      <td>NaN</td>\n      <td>NaN</td>\n      <td>NaN</td>\n      <td>NaN</td>\n      <td>NaN</td>\n      <td>NaN</td>\n      <td>NaN</td>\n    </tr>\n    <tr>\n      <th>000b4e4134d5f77d7608fbf86fb3e1adac4478a8</th>\n      <td>NaN</td>\n      <td>NaN</td>\n      <td>NaN</td>\n      <td>NaN</td>\n      <td>NaN</td>\n      <td>NaN</td>\n      <td>NaN</td>\n      <td>NaN</td>\n      <td>NaN</td>\n      <td>NaN</td>\n      <td>...</td>\n      <td>NaN</td>\n      <td>NaN</td>\n      <td>NaN</td>\n      <td>NaN</td>\n      <td>NaN</td>\n      <td>NaN</td>\n      <td>NaN</td>\n      <td>NaN</td>\n      <td>NaN</td>\n      <td>NaN</td>\n    </tr>\n  </tbody>\n</table>\n<p>5 rows × 6574 columns</p>\n</div>"
     },
     "execution_count": 18,
     "metadata": {},
     "output_type": "execute_result"
    }
   ],
   "source": [
    "matrix = reduced_triplets_df.pivot_table(index='user_id', columns='song_id', values='rating')\n",
    "matrix.head()"
   ],
   "metadata": {
    "collapsed": false
   }
  },
  {
   "cell_type": "markdown",
   "source": [
    "### Calculating user similarity"
   ],
   "metadata": {
    "collapsed": false
   }
  },
  {
   "cell_type": "code",
   "execution_count": 19,
   "outputs": [
    {
     "data": {
      "text/plain": "user_id                                   00003a4459f33b92906be11abe0e93efc423c0ff  \\\nuser_id                                                                              \n00003a4459f33b92906be11abe0e93efc423c0ff                                       1.0   \n00005c6177188f12fb5e2e82cdbd93e8a3f35e64                                       NaN   \n0007c0e74728ca9ef0fe4eb7f75732e8026a278b                                       NaN   \n000b474f815bcff17a4bc9ce5324f9352dafe07d                                       NaN   \n000b4e4134d5f77d7608fbf86fb3e1adac4478a8                                       NaN   \n\nuser_id                                   00005c6177188f12fb5e2e82cdbd93e8a3f35e64  \\\nuser_id                                                                              \n00003a4459f33b92906be11abe0e93efc423c0ff                                       NaN   \n00005c6177188f12fb5e2e82cdbd93e8a3f35e64                                       NaN   \n0007c0e74728ca9ef0fe4eb7f75732e8026a278b                                       NaN   \n000b474f815bcff17a4bc9ce5324f9352dafe07d                                       NaN   \n000b4e4134d5f77d7608fbf86fb3e1adac4478a8                                       NaN   \n\nuser_id                                   0007c0e74728ca9ef0fe4eb7f75732e8026a278b  \\\nuser_id                                                                              \n00003a4459f33b92906be11abe0e93efc423c0ff                                       NaN   \n00005c6177188f12fb5e2e82cdbd93e8a3f35e64                                       NaN   \n0007c0e74728ca9ef0fe4eb7f75732e8026a278b                                       NaN   \n000b474f815bcff17a4bc9ce5324f9352dafe07d                                       NaN   \n000b4e4134d5f77d7608fbf86fb3e1adac4478a8                                       NaN   \n\nuser_id                                   000b474f815bcff17a4bc9ce5324f9352dafe07d  \\\nuser_id                                                                              \n00003a4459f33b92906be11abe0e93efc423c0ff                                       NaN   \n00005c6177188f12fb5e2e82cdbd93e8a3f35e64                                       NaN   \n0007c0e74728ca9ef0fe4eb7f75732e8026a278b                                       NaN   \n000b474f815bcff17a4bc9ce5324f9352dafe07d                                       1.0   \n000b4e4134d5f77d7608fbf86fb3e1adac4478a8                                       NaN   \n\nuser_id                                   000b4e4134d5f77d7608fbf86fb3e1adac4478a8  \\\nuser_id                                                                              \n00003a4459f33b92906be11abe0e93efc423c0ff                                       NaN   \n00005c6177188f12fb5e2e82cdbd93e8a3f35e64                                       NaN   \n0007c0e74728ca9ef0fe4eb7f75732e8026a278b                                       NaN   \n000b474f815bcff17a4bc9ce5324f9352dafe07d                                       NaN   \n000b4e4134d5f77d7608fbf86fb3e1adac4478a8                                       1.0   \n\nuser_id                                   000d2df2cb8ad7300f89512f8fe8fadc4f99e733  \\\nuser_id                                                                              \n00003a4459f33b92906be11abe0e93efc423c0ff                                       NaN   \n00005c6177188f12fb5e2e82cdbd93e8a3f35e64                                       NaN   \n0007c0e74728ca9ef0fe4eb7f75732e8026a278b                                       NaN   \n000b474f815bcff17a4bc9ce5324f9352dafe07d                                       NaN   \n000b4e4134d5f77d7608fbf86fb3e1adac4478a8                                       NaN   \n\nuser_id                                   000ebc858861aca26bac9b49f650ed424cf882fc  \\\nuser_id                                                                              \n00003a4459f33b92906be11abe0e93efc423c0ff                                       NaN   \n00005c6177188f12fb5e2e82cdbd93e8a3f35e64                                       NaN   \n0007c0e74728ca9ef0fe4eb7f75732e8026a278b                                       NaN   \n000b474f815bcff17a4bc9ce5324f9352dafe07d                                       NaN   \n000b4e4134d5f77d7608fbf86fb3e1adac4478a8                                       NaN   \n\nuser_id                                   000ef25cc955ad5841c915d269432eea41f4a1a5  \\\nuser_id                                                                              \n00003a4459f33b92906be11abe0e93efc423c0ff                                       NaN   \n00005c6177188f12fb5e2e82cdbd93e8a3f35e64                                       NaN   \n0007c0e74728ca9ef0fe4eb7f75732e8026a278b                                       NaN   \n000b474f815bcff17a4bc9ce5324f9352dafe07d                                       NaN   \n000b4e4134d5f77d7608fbf86fb3e1adac4478a8                                       NaN   \n\nuser_id                                   001b005fe5e80d3cb45f320f5658fc8e2e72794e  \\\nuser_id                                                                              \n00003a4459f33b92906be11abe0e93efc423c0ff                                       NaN   \n00005c6177188f12fb5e2e82cdbd93e8a3f35e64                                       NaN   \n0007c0e74728ca9ef0fe4eb7f75732e8026a278b                                       NaN   \n000b474f815bcff17a4bc9ce5324f9352dafe07d                                       NaN   \n000b4e4134d5f77d7608fbf86fb3e1adac4478a8                                       NaN   \n\nuser_id                                   001f22c638730aed5659034c447d3cf0e658898e  \\\nuser_id                                                                              \n00003a4459f33b92906be11abe0e93efc423c0ff                                       NaN   \n00005c6177188f12fb5e2e82cdbd93e8a3f35e64                                       NaN   \n0007c0e74728ca9ef0fe4eb7f75732e8026a278b                                       NaN   \n000b474f815bcff17a4bc9ce5324f9352dafe07d                                       NaN   \n000b4e4134d5f77d7608fbf86fb3e1adac4478a8                                       NaN   \n\nuser_id                                   ...  \\\nuser_id                                   ...   \n00003a4459f33b92906be11abe0e93efc423c0ff  ...   \n00005c6177188f12fb5e2e82cdbd93e8a3f35e64  ...   \n0007c0e74728ca9ef0fe4eb7f75732e8026a278b  ...   \n000b474f815bcff17a4bc9ce5324f9352dafe07d  ...   \n000b4e4134d5f77d7608fbf86fb3e1adac4478a8  ...   \n\nuser_id                                   ffe5181c3f5daf9bb25a7e087d5107e4276b83e8  \\\nuser_id                                                                              \n00003a4459f33b92906be11abe0e93efc423c0ff                                       NaN   \n00005c6177188f12fb5e2e82cdbd93e8a3f35e64                                       NaN   \n0007c0e74728ca9ef0fe4eb7f75732e8026a278b                                       NaN   \n000b474f815bcff17a4bc9ce5324f9352dafe07d                                       NaN   \n000b4e4134d5f77d7608fbf86fb3e1adac4478a8                                       NaN   \n\nuser_id                                   ffeb72b8032d5a1c2f3e1bb7c50eee19f23bcf20  \\\nuser_id                                                                              \n00003a4459f33b92906be11abe0e93efc423c0ff                                       NaN   \n00005c6177188f12fb5e2e82cdbd93e8a3f35e64                                       NaN   \n0007c0e74728ca9ef0fe4eb7f75732e8026a278b                                       NaN   \n000b474f815bcff17a4bc9ce5324f9352dafe07d                                       NaN   \n000b4e4134d5f77d7608fbf86fb3e1adac4478a8                                       NaN   \n\nuser_id                                   ffebfec313fd515a11faba060b022f030b57fac0  \\\nuser_id                                                                              \n00003a4459f33b92906be11abe0e93efc423c0ff                                       NaN   \n00005c6177188f12fb5e2e82cdbd93e8a3f35e64                                       NaN   \n0007c0e74728ca9ef0fe4eb7f75732e8026a278b                                       NaN   \n000b474f815bcff17a4bc9ce5324f9352dafe07d                                       NaN   \n000b4e4134d5f77d7608fbf86fb3e1adac4478a8                                       NaN   \n\nuser_id                                   ffec9b417b38e41a5f81c2cb763af9144f54885e  \\\nuser_id                                                                              \n00003a4459f33b92906be11abe0e93efc423c0ff                                       NaN   \n00005c6177188f12fb5e2e82cdbd93e8a3f35e64                                       NaN   \n0007c0e74728ca9ef0fe4eb7f75732e8026a278b                                       NaN   \n000b474f815bcff17a4bc9ce5324f9352dafe07d                                       NaN   \n000b4e4134d5f77d7608fbf86fb3e1adac4478a8                                       NaN   \n\nuser_id                                   fff1d613baa7ce8e5acb7181093d9683804a55b6  \\\nuser_id                                                                              \n00003a4459f33b92906be11abe0e93efc423c0ff                                       NaN   \n00005c6177188f12fb5e2e82cdbd93e8a3f35e64                                       NaN   \n0007c0e74728ca9ef0fe4eb7f75732e8026a278b                                       NaN   \n000b474f815bcff17a4bc9ce5324f9352dafe07d                                       NaN   \n000b4e4134d5f77d7608fbf86fb3e1adac4478a8                                       NaN   \n\nuser_id                                   fff300cd094fe04030b79fae550dc9d065190182  \\\nuser_id                                                                              \n00003a4459f33b92906be11abe0e93efc423c0ff                                       NaN   \n00005c6177188f12fb5e2e82cdbd93e8a3f35e64                                       NaN   \n0007c0e74728ca9ef0fe4eb7f75732e8026a278b                                       NaN   \n000b474f815bcff17a4bc9ce5324f9352dafe07d                                       NaN   \n000b4e4134d5f77d7608fbf86fb3e1adac4478a8                                       NaN   \n\nuser_id                                   fff543db7918cb8f4f56f7470903eb2f1d5a6dd8  \\\nuser_id                                                                              \n00003a4459f33b92906be11abe0e93efc423c0ff                                       NaN   \n00005c6177188f12fb5e2e82cdbd93e8a3f35e64                                       NaN   \n0007c0e74728ca9ef0fe4eb7f75732e8026a278b                                       NaN   \n000b474f815bcff17a4bc9ce5324f9352dafe07d                                       NaN   \n000b4e4134d5f77d7608fbf86fb3e1adac4478a8                                       NaN   \n\nuser_id                                   fff6c30c773e6ffafcac213c9afd9666afaf6d63  \\\nuser_id                                                                              \n00003a4459f33b92906be11abe0e93efc423c0ff                                       NaN   \n00005c6177188f12fb5e2e82cdbd93e8a3f35e64                                       NaN   \n0007c0e74728ca9ef0fe4eb7f75732e8026a278b                                       NaN   \n000b474f815bcff17a4bc9ce5324f9352dafe07d                                       NaN   \n000b4e4134d5f77d7608fbf86fb3e1adac4478a8                                       NaN   \n\nuser_id                                   fffad4a128cd3d130f06c0f7bf493781081afe3c  \\\nuser_id                                                                              \n00003a4459f33b92906be11abe0e93efc423c0ff                                       NaN   \n00005c6177188f12fb5e2e82cdbd93e8a3f35e64                                       NaN   \n0007c0e74728ca9ef0fe4eb7f75732e8026a278b                                       NaN   \n000b474f815bcff17a4bc9ce5324f9352dafe07d                                       NaN   \n000b4e4134d5f77d7608fbf86fb3e1adac4478a8                                       NaN   \n\nuser_id                                   fffce9c1537fbc350ea68823d956eaa8f5236dbe  \nuser_id                                                                             \n00003a4459f33b92906be11abe0e93efc423c0ff                                       NaN  \n00005c6177188f12fb5e2e82cdbd93e8a3f35e64                                       NaN  \n0007c0e74728ca9ef0fe4eb7f75732e8026a278b                                       NaN  \n000b474f815bcff17a4bc9ce5324f9352dafe07d                                       NaN  \n000b4e4134d5f77d7608fbf86fb3e1adac4478a8                                       NaN  \n\n[5 rows x 22206 columns]",
      "text/html": "<div>\n<style scoped>\n    .dataframe tbody tr th:only-of-type {\n        vertical-align: middle;\n    }\n\n    .dataframe tbody tr th {\n        vertical-align: top;\n    }\n\n    .dataframe thead th {\n        text-align: right;\n    }\n</style>\n<table border=\"1\" class=\"dataframe\">\n  <thead>\n    <tr style=\"text-align: right;\">\n      <th>user_id</th>\n      <th>00003a4459f33b92906be11abe0e93efc423c0ff</th>\n      <th>00005c6177188f12fb5e2e82cdbd93e8a3f35e64</th>\n      <th>0007c0e74728ca9ef0fe4eb7f75732e8026a278b</th>\n      <th>000b474f815bcff17a4bc9ce5324f9352dafe07d</th>\n      <th>000b4e4134d5f77d7608fbf86fb3e1adac4478a8</th>\n      <th>000d2df2cb8ad7300f89512f8fe8fadc4f99e733</th>\n      <th>000ebc858861aca26bac9b49f650ed424cf882fc</th>\n      <th>000ef25cc955ad5841c915d269432eea41f4a1a5</th>\n      <th>001b005fe5e80d3cb45f320f5658fc8e2e72794e</th>\n      <th>001f22c638730aed5659034c447d3cf0e658898e</th>\n      <th>...</th>\n      <th>ffe5181c3f5daf9bb25a7e087d5107e4276b83e8</th>\n      <th>ffeb72b8032d5a1c2f3e1bb7c50eee19f23bcf20</th>\n      <th>ffebfec313fd515a11faba060b022f030b57fac0</th>\n      <th>ffec9b417b38e41a5f81c2cb763af9144f54885e</th>\n      <th>fff1d613baa7ce8e5acb7181093d9683804a55b6</th>\n      <th>fff300cd094fe04030b79fae550dc9d065190182</th>\n      <th>fff543db7918cb8f4f56f7470903eb2f1d5a6dd8</th>\n      <th>fff6c30c773e6ffafcac213c9afd9666afaf6d63</th>\n      <th>fffad4a128cd3d130f06c0f7bf493781081afe3c</th>\n      <th>fffce9c1537fbc350ea68823d956eaa8f5236dbe</th>\n    </tr>\n    <tr>\n      <th>user_id</th>\n      <th></th>\n      <th></th>\n      <th></th>\n      <th></th>\n      <th></th>\n      <th></th>\n      <th></th>\n      <th></th>\n      <th></th>\n      <th></th>\n      <th></th>\n      <th></th>\n      <th></th>\n      <th></th>\n      <th></th>\n      <th></th>\n      <th></th>\n      <th></th>\n      <th></th>\n      <th></th>\n      <th></th>\n    </tr>\n  </thead>\n  <tbody>\n    <tr>\n      <th>00003a4459f33b92906be11abe0e93efc423c0ff</th>\n      <td>1.0</td>\n      <td>NaN</td>\n      <td>NaN</td>\n      <td>NaN</td>\n      <td>NaN</td>\n      <td>NaN</td>\n      <td>NaN</td>\n      <td>NaN</td>\n      <td>NaN</td>\n      <td>NaN</td>\n      <td>...</td>\n      <td>NaN</td>\n      <td>NaN</td>\n      <td>NaN</td>\n      <td>NaN</td>\n      <td>NaN</td>\n      <td>NaN</td>\n      <td>NaN</td>\n      <td>NaN</td>\n      <td>NaN</td>\n      <td>NaN</td>\n    </tr>\n    <tr>\n      <th>00005c6177188f12fb5e2e82cdbd93e8a3f35e64</th>\n      <td>NaN</td>\n      <td>NaN</td>\n      <td>NaN</td>\n      <td>NaN</td>\n      <td>NaN</td>\n      <td>NaN</td>\n      <td>NaN</td>\n      <td>NaN</td>\n      <td>NaN</td>\n      <td>NaN</td>\n      <td>...</td>\n      <td>NaN</td>\n      <td>NaN</td>\n      <td>NaN</td>\n      <td>NaN</td>\n      <td>NaN</td>\n      <td>NaN</td>\n      <td>NaN</td>\n      <td>NaN</td>\n      <td>NaN</td>\n      <td>NaN</td>\n    </tr>\n    <tr>\n      <th>0007c0e74728ca9ef0fe4eb7f75732e8026a278b</th>\n      <td>NaN</td>\n      <td>NaN</td>\n      <td>NaN</td>\n      <td>NaN</td>\n      <td>NaN</td>\n      <td>NaN</td>\n      <td>NaN</td>\n      <td>NaN</td>\n      <td>NaN</td>\n      <td>NaN</td>\n      <td>...</td>\n      <td>NaN</td>\n      <td>NaN</td>\n      <td>NaN</td>\n      <td>NaN</td>\n      <td>NaN</td>\n      <td>NaN</td>\n      <td>NaN</td>\n      <td>NaN</td>\n      <td>NaN</td>\n      <td>NaN</td>\n    </tr>\n    <tr>\n      <th>000b474f815bcff17a4bc9ce5324f9352dafe07d</th>\n      <td>NaN</td>\n      <td>NaN</td>\n      <td>NaN</td>\n      <td>1.0</td>\n      <td>NaN</td>\n      <td>NaN</td>\n      <td>NaN</td>\n      <td>NaN</td>\n      <td>NaN</td>\n      <td>NaN</td>\n      <td>...</td>\n      <td>NaN</td>\n      <td>NaN</td>\n      <td>NaN</td>\n      <td>NaN</td>\n      <td>NaN</td>\n      <td>NaN</td>\n      <td>NaN</td>\n      <td>NaN</td>\n      <td>NaN</td>\n      <td>NaN</td>\n    </tr>\n    <tr>\n      <th>000b4e4134d5f77d7608fbf86fb3e1adac4478a8</th>\n      <td>NaN</td>\n      <td>NaN</td>\n      <td>NaN</td>\n      <td>NaN</td>\n      <td>1.0</td>\n      <td>NaN</td>\n      <td>NaN</td>\n      <td>NaN</td>\n      <td>NaN</td>\n      <td>NaN</td>\n      <td>...</td>\n      <td>NaN</td>\n      <td>NaN</td>\n      <td>NaN</td>\n      <td>NaN</td>\n      <td>NaN</td>\n      <td>NaN</td>\n      <td>NaN</td>\n      <td>NaN</td>\n      <td>NaN</td>\n      <td>NaN</td>\n    </tr>\n  </tbody>\n</table>\n<p>5 rows × 22206 columns</p>\n</div>"
     },
     "execution_count": 19,
     "metadata": {},
     "output_type": "execute_result"
    }
   ],
   "source": [
    "user_similarity = matrix.T.corr()\n",
    "user_similarity.head()"
   ],
   "metadata": {
    "collapsed": false
   }
  },
  {
   "cell_type": "code",
   "execution_count": 20,
   "outputs": [
    {
     "data": {
      "text/plain": "user_id                                   00003a4459f33b92906be11abe0e93efc423c0ff  \\\nuser_id                                                                              \n00005c6177188f12fb5e2e82cdbd93e8a3f35e64                                       NaN   \n0007c0e74728ca9ef0fe4eb7f75732e8026a278b                                       NaN   \n000b474f815bcff17a4bc9ce5324f9352dafe07d                                       NaN   \n000b4e4134d5f77d7608fbf86fb3e1adac4478a8                                       NaN   \n000d2df2cb8ad7300f89512f8fe8fadc4f99e733                                       NaN   \n\nuser_id                                   00005c6177188f12fb5e2e82cdbd93e8a3f35e64  \\\nuser_id                                                                              \n00005c6177188f12fb5e2e82cdbd93e8a3f35e64                                       NaN   \n0007c0e74728ca9ef0fe4eb7f75732e8026a278b                                       NaN   \n000b474f815bcff17a4bc9ce5324f9352dafe07d                                       NaN   \n000b4e4134d5f77d7608fbf86fb3e1adac4478a8                                       NaN   \n000d2df2cb8ad7300f89512f8fe8fadc4f99e733                                       NaN   \n\nuser_id                                   0007c0e74728ca9ef0fe4eb7f75732e8026a278b  \\\nuser_id                                                                              \n00005c6177188f12fb5e2e82cdbd93e8a3f35e64                                       NaN   \n0007c0e74728ca9ef0fe4eb7f75732e8026a278b                                       NaN   \n000b474f815bcff17a4bc9ce5324f9352dafe07d                                       NaN   \n000b4e4134d5f77d7608fbf86fb3e1adac4478a8                                       NaN   \n000d2df2cb8ad7300f89512f8fe8fadc4f99e733                                       NaN   \n\nuser_id                                   000b474f815bcff17a4bc9ce5324f9352dafe07d  \\\nuser_id                                                                              \n00005c6177188f12fb5e2e82cdbd93e8a3f35e64                                       NaN   \n0007c0e74728ca9ef0fe4eb7f75732e8026a278b                                       NaN   \n000b474f815bcff17a4bc9ce5324f9352dafe07d                                       1.0   \n000b4e4134d5f77d7608fbf86fb3e1adac4478a8                                       NaN   \n000d2df2cb8ad7300f89512f8fe8fadc4f99e733                                       NaN   \n\nuser_id                                   000b4e4134d5f77d7608fbf86fb3e1adac4478a8  \\\nuser_id                                                                              \n00005c6177188f12fb5e2e82cdbd93e8a3f35e64                                       NaN   \n0007c0e74728ca9ef0fe4eb7f75732e8026a278b                                       NaN   \n000b474f815bcff17a4bc9ce5324f9352dafe07d                                       NaN   \n000b4e4134d5f77d7608fbf86fb3e1adac4478a8                                       1.0   \n000d2df2cb8ad7300f89512f8fe8fadc4f99e733                                       NaN   \n\nuser_id                                   000d2df2cb8ad7300f89512f8fe8fadc4f99e733  \\\nuser_id                                                                              \n00005c6177188f12fb5e2e82cdbd93e8a3f35e64                                       NaN   \n0007c0e74728ca9ef0fe4eb7f75732e8026a278b                                       NaN   \n000b474f815bcff17a4bc9ce5324f9352dafe07d                                       NaN   \n000b4e4134d5f77d7608fbf86fb3e1adac4478a8                                       NaN   \n000d2df2cb8ad7300f89512f8fe8fadc4f99e733                                       1.0   \n\nuser_id                                   000ebc858861aca26bac9b49f650ed424cf882fc  \\\nuser_id                                                                              \n00005c6177188f12fb5e2e82cdbd93e8a3f35e64                                       NaN   \n0007c0e74728ca9ef0fe4eb7f75732e8026a278b                                       NaN   \n000b474f815bcff17a4bc9ce5324f9352dafe07d                                       NaN   \n000b4e4134d5f77d7608fbf86fb3e1adac4478a8                                       NaN   \n000d2df2cb8ad7300f89512f8fe8fadc4f99e733                                       NaN   \n\nuser_id                                   000ef25cc955ad5841c915d269432eea41f4a1a5  \\\nuser_id                                                                              \n00005c6177188f12fb5e2e82cdbd93e8a3f35e64                                       NaN   \n0007c0e74728ca9ef0fe4eb7f75732e8026a278b                                       NaN   \n000b474f815bcff17a4bc9ce5324f9352dafe07d                                       NaN   \n000b4e4134d5f77d7608fbf86fb3e1adac4478a8                                       NaN   \n000d2df2cb8ad7300f89512f8fe8fadc4f99e733                                       NaN   \n\nuser_id                                   001b005fe5e80d3cb45f320f5658fc8e2e72794e  \\\nuser_id                                                                              \n00005c6177188f12fb5e2e82cdbd93e8a3f35e64                                       NaN   \n0007c0e74728ca9ef0fe4eb7f75732e8026a278b                                       NaN   \n000b474f815bcff17a4bc9ce5324f9352dafe07d                                       NaN   \n000b4e4134d5f77d7608fbf86fb3e1adac4478a8                                       NaN   \n000d2df2cb8ad7300f89512f8fe8fadc4f99e733                                       NaN   \n\nuser_id                                   001f22c638730aed5659034c447d3cf0e658898e  \\\nuser_id                                                                              \n00005c6177188f12fb5e2e82cdbd93e8a3f35e64                                       NaN   \n0007c0e74728ca9ef0fe4eb7f75732e8026a278b                                       NaN   \n000b474f815bcff17a4bc9ce5324f9352dafe07d                                       NaN   \n000b4e4134d5f77d7608fbf86fb3e1adac4478a8                                       NaN   \n000d2df2cb8ad7300f89512f8fe8fadc4f99e733                                       NaN   \n\nuser_id                                   ...  \\\nuser_id                                   ...   \n00005c6177188f12fb5e2e82cdbd93e8a3f35e64  ...   \n0007c0e74728ca9ef0fe4eb7f75732e8026a278b  ...   \n000b474f815bcff17a4bc9ce5324f9352dafe07d  ...   \n000b4e4134d5f77d7608fbf86fb3e1adac4478a8  ...   \n000d2df2cb8ad7300f89512f8fe8fadc4f99e733  ...   \n\nuser_id                                   ffe5181c3f5daf9bb25a7e087d5107e4276b83e8  \\\nuser_id                                                                              \n00005c6177188f12fb5e2e82cdbd93e8a3f35e64                                       NaN   \n0007c0e74728ca9ef0fe4eb7f75732e8026a278b                                       NaN   \n000b474f815bcff17a4bc9ce5324f9352dafe07d                                       NaN   \n000b4e4134d5f77d7608fbf86fb3e1adac4478a8                                       NaN   \n000d2df2cb8ad7300f89512f8fe8fadc4f99e733                                       NaN   \n\nuser_id                                   ffeb72b8032d5a1c2f3e1bb7c50eee19f23bcf20  \\\nuser_id                                                                              \n00005c6177188f12fb5e2e82cdbd93e8a3f35e64                                       NaN   \n0007c0e74728ca9ef0fe4eb7f75732e8026a278b                                       NaN   \n000b474f815bcff17a4bc9ce5324f9352dafe07d                                       NaN   \n000b4e4134d5f77d7608fbf86fb3e1adac4478a8                                       NaN   \n000d2df2cb8ad7300f89512f8fe8fadc4f99e733                                       NaN   \n\nuser_id                                   ffebfec313fd515a11faba060b022f030b57fac0  \\\nuser_id                                                                              \n00005c6177188f12fb5e2e82cdbd93e8a3f35e64                                       NaN   \n0007c0e74728ca9ef0fe4eb7f75732e8026a278b                                       NaN   \n000b474f815bcff17a4bc9ce5324f9352dafe07d                                       NaN   \n000b4e4134d5f77d7608fbf86fb3e1adac4478a8                                       NaN   \n000d2df2cb8ad7300f89512f8fe8fadc4f99e733                                       NaN   \n\nuser_id                                   ffec9b417b38e41a5f81c2cb763af9144f54885e  \\\nuser_id                                                                              \n00005c6177188f12fb5e2e82cdbd93e8a3f35e64                                       NaN   \n0007c0e74728ca9ef0fe4eb7f75732e8026a278b                                       NaN   \n000b474f815bcff17a4bc9ce5324f9352dafe07d                                       NaN   \n000b4e4134d5f77d7608fbf86fb3e1adac4478a8                                       NaN   \n000d2df2cb8ad7300f89512f8fe8fadc4f99e733                                       NaN   \n\nuser_id                                   fff1d613baa7ce8e5acb7181093d9683804a55b6  \\\nuser_id                                                                              \n00005c6177188f12fb5e2e82cdbd93e8a3f35e64                                       NaN   \n0007c0e74728ca9ef0fe4eb7f75732e8026a278b                                       NaN   \n000b474f815bcff17a4bc9ce5324f9352dafe07d                                       NaN   \n000b4e4134d5f77d7608fbf86fb3e1adac4478a8                                       NaN   \n000d2df2cb8ad7300f89512f8fe8fadc4f99e733                                       NaN   \n\nuser_id                                   fff300cd094fe04030b79fae550dc9d065190182  \\\nuser_id                                                                              \n00005c6177188f12fb5e2e82cdbd93e8a3f35e64                                       NaN   \n0007c0e74728ca9ef0fe4eb7f75732e8026a278b                                       NaN   \n000b474f815bcff17a4bc9ce5324f9352dafe07d                                       NaN   \n000b4e4134d5f77d7608fbf86fb3e1adac4478a8                                       NaN   \n000d2df2cb8ad7300f89512f8fe8fadc4f99e733                                       NaN   \n\nuser_id                                   fff543db7918cb8f4f56f7470903eb2f1d5a6dd8  \\\nuser_id                                                                              \n00005c6177188f12fb5e2e82cdbd93e8a3f35e64                                       NaN   \n0007c0e74728ca9ef0fe4eb7f75732e8026a278b                                       NaN   \n000b474f815bcff17a4bc9ce5324f9352dafe07d                                       NaN   \n000b4e4134d5f77d7608fbf86fb3e1adac4478a8                                       NaN   \n000d2df2cb8ad7300f89512f8fe8fadc4f99e733                                       NaN   \n\nuser_id                                   fff6c30c773e6ffafcac213c9afd9666afaf6d63  \\\nuser_id                                                                              \n00005c6177188f12fb5e2e82cdbd93e8a3f35e64                                       NaN   \n0007c0e74728ca9ef0fe4eb7f75732e8026a278b                                       NaN   \n000b474f815bcff17a4bc9ce5324f9352dafe07d                                       NaN   \n000b4e4134d5f77d7608fbf86fb3e1adac4478a8                                       NaN   \n000d2df2cb8ad7300f89512f8fe8fadc4f99e733                                       NaN   \n\nuser_id                                   fffad4a128cd3d130f06c0f7bf493781081afe3c  \\\nuser_id                                                                              \n00005c6177188f12fb5e2e82cdbd93e8a3f35e64                                       NaN   \n0007c0e74728ca9ef0fe4eb7f75732e8026a278b                                       NaN   \n000b474f815bcff17a4bc9ce5324f9352dafe07d                                       NaN   \n000b4e4134d5f77d7608fbf86fb3e1adac4478a8                                       NaN   \n000d2df2cb8ad7300f89512f8fe8fadc4f99e733                                       NaN   \n\nuser_id                                   fffce9c1537fbc350ea68823d956eaa8f5236dbe  \nuser_id                                                                             \n00005c6177188f12fb5e2e82cdbd93e8a3f35e64                                       NaN  \n0007c0e74728ca9ef0fe4eb7f75732e8026a278b                                       NaN  \n000b474f815bcff17a4bc9ce5324f9352dafe07d                                       NaN  \n000b4e4134d5f77d7608fbf86fb3e1adac4478a8                                       NaN  \n000d2df2cb8ad7300f89512f8fe8fadc4f99e733                                       NaN  \n\n[5 rows x 22206 columns]",
      "text/html": "<div>\n<style scoped>\n    .dataframe tbody tr th:only-of-type {\n        vertical-align: middle;\n    }\n\n    .dataframe tbody tr th {\n        vertical-align: top;\n    }\n\n    .dataframe thead th {\n        text-align: right;\n    }\n</style>\n<table border=\"1\" class=\"dataframe\">\n  <thead>\n    <tr style=\"text-align: right;\">\n      <th>user_id</th>\n      <th>00003a4459f33b92906be11abe0e93efc423c0ff</th>\n      <th>00005c6177188f12fb5e2e82cdbd93e8a3f35e64</th>\n      <th>0007c0e74728ca9ef0fe4eb7f75732e8026a278b</th>\n      <th>000b474f815bcff17a4bc9ce5324f9352dafe07d</th>\n      <th>000b4e4134d5f77d7608fbf86fb3e1adac4478a8</th>\n      <th>000d2df2cb8ad7300f89512f8fe8fadc4f99e733</th>\n      <th>000ebc858861aca26bac9b49f650ed424cf882fc</th>\n      <th>000ef25cc955ad5841c915d269432eea41f4a1a5</th>\n      <th>001b005fe5e80d3cb45f320f5658fc8e2e72794e</th>\n      <th>001f22c638730aed5659034c447d3cf0e658898e</th>\n      <th>...</th>\n      <th>ffe5181c3f5daf9bb25a7e087d5107e4276b83e8</th>\n      <th>ffeb72b8032d5a1c2f3e1bb7c50eee19f23bcf20</th>\n      <th>ffebfec313fd515a11faba060b022f030b57fac0</th>\n      <th>ffec9b417b38e41a5f81c2cb763af9144f54885e</th>\n      <th>fff1d613baa7ce8e5acb7181093d9683804a55b6</th>\n      <th>fff300cd094fe04030b79fae550dc9d065190182</th>\n      <th>fff543db7918cb8f4f56f7470903eb2f1d5a6dd8</th>\n      <th>fff6c30c773e6ffafcac213c9afd9666afaf6d63</th>\n      <th>fffad4a128cd3d130f06c0f7bf493781081afe3c</th>\n      <th>fffce9c1537fbc350ea68823d956eaa8f5236dbe</th>\n    </tr>\n    <tr>\n      <th>user_id</th>\n      <th></th>\n      <th></th>\n      <th></th>\n      <th></th>\n      <th></th>\n      <th></th>\n      <th></th>\n      <th></th>\n      <th></th>\n      <th></th>\n      <th></th>\n      <th></th>\n      <th></th>\n      <th></th>\n      <th></th>\n      <th></th>\n      <th></th>\n      <th></th>\n      <th></th>\n      <th></th>\n      <th></th>\n    </tr>\n  </thead>\n  <tbody>\n    <tr>\n      <th>00005c6177188f12fb5e2e82cdbd93e8a3f35e64</th>\n      <td>NaN</td>\n      <td>NaN</td>\n      <td>NaN</td>\n      <td>NaN</td>\n      <td>NaN</td>\n      <td>NaN</td>\n      <td>NaN</td>\n      <td>NaN</td>\n      <td>NaN</td>\n      <td>NaN</td>\n      <td>...</td>\n      <td>NaN</td>\n      <td>NaN</td>\n      <td>NaN</td>\n      <td>NaN</td>\n      <td>NaN</td>\n      <td>NaN</td>\n      <td>NaN</td>\n      <td>NaN</td>\n      <td>NaN</td>\n      <td>NaN</td>\n    </tr>\n    <tr>\n      <th>0007c0e74728ca9ef0fe4eb7f75732e8026a278b</th>\n      <td>NaN</td>\n      <td>NaN</td>\n      <td>NaN</td>\n      <td>NaN</td>\n      <td>NaN</td>\n      <td>NaN</td>\n      <td>NaN</td>\n      <td>NaN</td>\n      <td>NaN</td>\n      <td>NaN</td>\n      <td>...</td>\n      <td>NaN</td>\n      <td>NaN</td>\n      <td>NaN</td>\n      <td>NaN</td>\n      <td>NaN</td>\n      <td>NaN</td>\n      <td>NaN</td>\n      <td>NaN</td>\n      <td>NaN</td>\n      <td>NaN</td>\n    </tr>\n    <tr>\n      <th>000b474f815bcff17a4bc9ce5324f9352dafe07d</th>\n      <td>NaN</td>\n      <td>NaN</td>\n      <td>NaN</td>\n      <td>1.0</td>\n      <td>NaN</td>\n      <td>NaN</td>\n      <td>NaN</td>\n      <td>NaN</td>\n      <td>NaN</td>\n      <td>NaN</td>\n      <td>...</td>\n      <td>NaN</td>\n      <td>NaN</td>\n      <td>NaN</td>\n      <td>NaN</td>\n      <td>NaN</td>\n      <td>NaN</td>\n      <td>NaN</td>\n      <td>NaN</td>\n      <td>NaN</td>\n      <td>NaN</td>\n    </tr>\n    <tr>\n      <th>000b4e4134d5f77d7608fbf86fb3e1adac4478a8</th>\n      <td>NaN</td>\n      <td>NaN</td>\n      <td>NaN</td>\n      <td>NaN</td>\n      <td>1.0</td>\n      <td>NaN</td>\n      <td>NaN</td>\n      <td>NaN</td>\n      <td>NaN</td>\n      <td>NaN</td>\n      <td>...</td>\n      <td>NaN</td>\n      <td>NaN</td>\n      <td>NaN</td>\n      <td>NaN</td>\n      <td>NaN</td>\n      <td>NaN</td>\n      <td>NaN</td>\n      <td>NaN</td>\n      <td>NaN</td>\n      <td>NaN</td>\n    </tr>\n    <tr>\n      <th>000d2df2cb8ad7300f89512f8fe8fadc4f99e733</th>\n      <td>NaN</td>\n      <td>NaN</td>\n      <td>NaN</td>\n      <td>NaN</td>\n      <td>NaN</td>\n      <td>1.0</td>\n      <td>NaN</td>\n      <td>NaN</td>\n      <td>NaN</td>\n      <td>NaN</td>\n      <td>...</td>\n      <td>NaN</td>\n      <td>NaN</td>\n      <td>NaN</td>\n      <td>NaN</td>\n      <td>NaN</td>\n      <td>NaN</td>\n      <td>NaN</td>\n      <td>NaN</td>\n      <td>NaN</td>\n      <td>NaN</td>\n    </tr>\n  </tbody>\n</table>\n<p>5 rows × 22206 columns</p>\n</div>"
     },
     "execution_count": 20,
     "metadata": {},
     "output_type": "execute_result"
    }
   ],
   "source": [
    "# User Id to make predictions\n",
    "userid = '00003a4459f33b92906be11abe0e93efc423c0ff'\n",
    "# Remove picked user ID from the candidate list\n",
    "similar_users_matrix = user_similarity.drop(index=userid, inplace=False)\n",
    "similar_users_matrix.head()"
   ],
   "metadata": {
    "collapsed": false
   }
  },
  {
   "cell_type": "code",
   "execution_count": 21,
   "outputs": [
    {
     "name": "stdout",
     "output_type": "stream",
     "text": [
      "The similar users for user 00003a4459f33b92906be11abe0e93efc423c0ff are user_id\n",
      "5e2e280f81efab5016ba03032f2fdbc46ef6fab1    1.000000\n",
      "a903813b3d755b48ace04117f1742cfd8733814d    0.870388\n",
      "1a2481a1c1e47784218ca607b2fc7a2f5d00b147    0.500000\n",
      "1d89006fce5d06e786942858ef2cfa24a476705a    0.500000\n",
      "Name: 00003a4459f33b92906be11abe0e93efc423c0ff, dtype: float64\n"
     ]
    }
   ],
   "source": [
    "# Number of similar users\n",
    "n = 10\n",
    "# User similarity threashold\n",
    "user_similarity_threshold = 0.3\n",
    "# Get top n similar users\n",
    "similar_users = similar_users_matrix[similar_users_matrix[userid]>user_similarity_threshold][userid].sort_values(ascending=False)\n",
    "# Print out top n similar users\n",
    "print(f'The similar users for user {userid} are', similar_users)"
   ],
   "metadata": {
    "collapsed": false
   }
  },
  {
   "cell_type": "code",
   "execution_count": 22,
   "outputs": [
    {
     "name": "stderr",
     "output_type": "stream",
     "text": [
      "C:\\Users\\Ewakae\\AppData\\Local\\Temp\\ipykernel_27936\\454639768.py:4: FutureWarning: The frame.append method is deprecated and will be removed from pandas in a future version. Use pandas.concat instead.\n",
      "  users_songs_df = users_songs_df.append(temp)\n",
      "C:\\Users\\Ewakae\\AppData\\Local\\Temp\\ipykernel_27936\\454639768.py:4: FutureWarning: The frame.append method is deprecated and will be removed from pandas in a future version. Use pandas.concat instead.\n",
      "  users_songs_df = users_songs_df.append(temp)\n",
      "C:\\Users\\Ewakae\\AppData\\Local\\Temp\\ipykernel_27936\\454639768.py:4: FutureWarning: The frame.append method is deprecated and will be removed from pandas in a future version. Use pandas.concat instead.\n",
      "  users_songs_df = users_songs_df.append(temp)\n",
      "C:\\Users\\Ewakae\\AppData\\Local\\Temp\\ipykernel_27936\\454639768.py:4: FutureWarning: The frame.append method is deprecated and will be removed from pandas in a future version. Use pandas.concat instead.\n",
      "  users_songs_df = users_songs_df.append(temp)\n"
     ]
    }
   ],
   "source": [
    "users_songs_df = pd.DataFrame(columns=triplets_df.columns.values)\n",
    "for i in range(len(similar_users)):\n",
    "    temp = triplets_df.loc[triplets_df['user_id'] == similar_users.index[i]]\n",
    "    users_songs_df = users_songs_df.append(temp)"
   ],
   "metadata": {
    "collapsed": false
   }
  },
  {
   "cell_type": "code",
   "execution_count": 23,
   "outputs": [],
   "source": [
    "# get unique songs\n",
    "songs_to_recommend = users_songs_df.sort_values('listen_count', ascending=False)['song_id']\n",
    "songs_to_recommend = songs_to_recommend.unique()\n",
    "songs_to_recommend = songs_to_recommend[:10]"
   ],
   "metadata": {
    "collapsed": false
   }
  },
  {
   "cell_type": "code",
   "execution_count": 24,
   "outputs": [
    {
     "name": "stderr",
     "output_type": "stream",
     "text": [
      "C:\\Users\\Ewakae\\AppData\\Local\\Temp\\ipykernel_27936\\644284479.py:3: FutureWarning: The frame.append method is deprecated and will be removed from pandas in a future version. Use pandas.concat instead.\n",
      "  songs_to_recommend_info = songs_to_recommend_info.append(song_df.loc[song_df['song_id'] == song])\n",
      "C:\\Users\\Ewakae\\AppData\\Local\\Temp\\ipykernel_27936\\644284479.py:3: FutureWarning: The frame.append method is deprecated and will be removed from pandas in a future version. Use pandas.concat instead.\n",
      "  songs_to_recommend_info = songs_to_recommend_info.append(song_df.loc[song_df['song_id'] == song])\n",
      "C:\\Users\\Ewakae\\AppData\\Local\\Temp\\ipykernel_27936\\644284479.py:3: FutureWarning: The frame.append method is deprecated and will be removed from pandas in a future version. Use pandas.concat instead.\n",
      "  songs_to_recommend_info = songs_to_recommend_info.append(song_df.loc[song_df['song_id'] == song])\n",
      "C:\\Users\\Ewakae\\AppData\\Local\\Temp\\ipykernel_27936\\644284479.py:3: FutureWarning: The frame.append method is deprecated and will be removed from pandas in a future version. Use pandas.concat instead.\n",
      "  songs_to_recommend_info = songs_to_recommend_info.append(song_df.loc[song_df['song_id'] == song])\n",
      "C:\\Users\\Ewakae\\AppData\\Local\\Temp\\ipykernel_27936\\644284479.py:3: FutureWarning: The frame.append method is deprecated and will be removed from pandas in a future version. Use pandas.concat instead.\n",
      "  songs_to_recommend_info = songs_to_recommend_info.append(song_df.loc[song_df['song_id'] == song])\n",
      "C:\\Users\\Ewakae\\AppData\\Local\\Temp\\ipykernel_27936\\644284479.py:3: FutureWarning: The frame.append method is deprecated and will be removed from pandas in a future version. Use pandas.concat instead.\n",
      "  songs_to_recommend_info = songs_to_recommend_info.append(song_df.loc[song_df['song_id'] == song])\n",
      "C:\\Users\\Ewakae\\AppData\\Local\\Temp\\ipykernel_27936\\644284479.py:3: FutureWarning: The frame.append method is deprecated and will be removed from pandas in a future version. Use pandas.concat instead.\n",
      "  songs_to_recommend_info = songs_to_recommend_info.append(song_df.loc[song_df['song_id'] == song])\n",
      "C:\\Users\\Ewakae\\AppData\\Local\\Temp\\ipykernel_27936\\644284479.py:3: FutureWarning: The frame.append method is deprecated and will be removed from pandas in a future version. Use pandas.concat instead.\n",
      "  songs_to_recommend_info = songs_to_recommend_info.append(song_df.loc[song_df['song_id'] == song])\n",
      "C:\\Users\\Ewakae\\AppData\\Local\\Temp\\ipykernel_27936\\644284479.py:3: FutureWarning: The frame.append method is deprecated and will be removed from pandas in a future version. Use pandas.concat instead.\n",
      "  songs_to_recommend_info = songs_to_recommend_info.append(song_df.loc[song_df['song_id'] == song])\n",
      "C:\\Users\\Ewakae\\AppData\\Local\\Temp\\ipykernel_27936\\644284479.py:3: FutureWarning: The frame.append method is deprecated and will be removed from pandas in a future version. Use pandas.concat instead.\n",
      "  songs_to_recommend_info = songs_to_recommend_info.append(song_df.loc[song_df['song_id'] == song])\n"
     ]
    }
   ],
   "source": [
    "songs_to_recommend_info = pd.DataFrame(columns=song_df.columns.values)\n",
    "for song in songs_to_recommend:\n",
    "    songs_to_recommend_info = songs_to_recommend_info.append(song_df.loc[song_df['song_id'] == song])"
   ],
   "metadata": {
    "collapsed": false
   }
  },
  {
   "cell_type": "code",
   "execution_count": 25,
   "outputs": [
    {
     "name": "stdout",
     "output_type": "stream",
     "text": [
      "The similar users for user 00003a4459f33b92906be11abe0e93efc423c0ff are user_id\n",
      "5e2e280f81efab5016ba03032f2fdbc46ef6fab1    1.000000\n",
      "a903813b3d755b48ace04117f1742cfd8733814d    0.870388\n",
      "1a2481a1c1e47784218ca607b2fc7a2f5d00b147    0.500000\n",
      "1d89006fce5d06e786942858ef2cfa24a476705a    0.500000\n",
      "Name: 00003a4459f33b92906be11abe0e93efc423c0ff, dtype: float64\n",
      "Songs recommended for user 00003a4459f33b92906be11abe0e93efc423c0ff are:\n",
      "1. Gravity by The Whitest Boy Alive\n",
      "2. Gold Lion by Yeah Yeah Yeahs\n",
      "3. Fireworks (bonus track) by The Whitest Boy Alive\n",
      "4. Flume by Bon Iver\n",
      "5. Not In Love by Crystal Castles\n",
      "6. The Canals Of Our City by Beirut\n",
      "7. You're A Wolf (Album) by Sea Wolf\n",
      "8. Helicopter by Bloc Party\n",
      "9. When You Were Young by The Killers\n",
      "10. Wonderwall by Ryan Adams\n"
     ]
    }
   ],
   "source": [
    "print(f'The similar users for user {userid} are', similar_users)\n",
    "print(f'Songs recommended for user {userid} are:')\n",
    "index = 1\n",
    "for i, song_info in songs_to_recommend_info.iterrows():\n",
    "    print(f\"{index}. {song_info['title']} by {song_info['artist_name']}\")\n",
    "    index += 1"
   ],
   "metadata": {
    "collapsed": false
   }
  },
  {
   "cell_type": "code",
   "execution_count": null,
   "outputs": [],
   "source": [
    "# Reset all variables\n",
    "# %reset"
   ],
   "metadata": {
    "collapsed": false
   }
  }
 ],
 "metadata": {
  "kernelspec": {
   "name": "gpu2",
   "language": "python",
   "display_name": "gpu2"
  },
  "language_info": {
   "codemirror_mode": {
    "name": "ipython",
    "version": 2
   },
   "file_extension": ".py",
   "mimetype": "text/x-python",
   "name": "python",
   "nbconvert_exporter": "python",
   "pygments_lexer": "ipython2",
   "version": "2.7.6"
  }
 },
 "nbformat": 4,
 "nbformat_minor": 0
}
